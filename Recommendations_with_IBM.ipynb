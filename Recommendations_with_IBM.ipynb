{
  "cells": [
    {
      "cell_type": "markdown",
      "metadata": {
        "id": "P9TOCfWhaTa_"
      },
      "source": [
        "# Recommendations with IBM\n",
        "\n",
        "In this notebook, you will be putting your recommendation skills to use on real data from the IBM Watson Studio platform. \n",
        "\n",
        "\n",
        "You may either submit your notebook through the workspace here, or you may work from your local machine and submit through the next page.  Either way assure that your code passes the project [RUBRIC](https://review.udacity.com/#!/rubrics/3325/view).  **Please save regularly.**\n",
        "\n",
        "By following the table of contents, you will build out a number of different methods for making recommendations that can be used for different situations. \n",
        "\n",
        "\n",
        "## Table of Contents\n",
        "\n",
        "I. [Exploratory Data Analysis](#Exploratory-Data-Analysis)<br>\n",
        "II. [Rank Based Recommendations](#Rank)<br>\n",
        "III. [User-User Based Collaborative Filtering](#User-User)<br>\n",
        "IV. [Content Based Recommendations (EXTRA - NOT REQUIRED)](#Content-Recs)<br>\n",
        "V. [Matrix Factorization](#Matrix-Fact)<br>\n",
        "VI. [Extras & Concluding](#conclusions)\n",
        "\n",
        "At the end of the notebook, you will find directions for how to submit your work.  Let's get started by importing the necessary libraries and reading in the data."
      ]
    },
    {
      "cell_type": "code",
      "execution_count": 142,
      "metadata": {
        "collapsed": true,
        "id": "XJAxHtSMaTbD"
      },
      "outputs": [],
      "source": [
        "import pandas as pd\n",
        "import numpy as np\n",
        "import matplotlib.pyplot as plt\n",
        "import project_tests as t\n",
        "import pickle\n",
        "\n",
        "%matplotlib inline\n",
        "\n",
        "df = pd.read_csv('data/user-item-interactions.csv')\n",
        "df_content = pd.read_csv('data/articles_community.csv')\n",
        "del df['Unnamed: 0']\n",
        "del df_content['Unnamed: 0']"
      ]
    },
    {
      "cell_type": "code",
      "source": [
        "# Show df to get an idea of the data\n",
        "df.head()"
      ],
      "metadata": {
        "colab": {
          "base_uri": "https://localhost:8080/",
          "height": 206
        },
        "id": "lyNXhRlhNxEy",
        "outputId": "11307140-d455-4b0d-e98a-4b9fc738dd8a"
      },
      "execution_count": 143,
      "outputs": [
        {
          "output_type": "execute_result",
          "data": {
            "text/plain": [
              "   article_id                                              title  \\\n",
              "0      1430.0  using pixiedust for fast, flexible, and easier...   \n",
              "1      1314.0       healthcare python streaming application demo   \n",
              "2      1429.0         use deep learning for image classification   \n",
              "3      1338.0          ml optimization using cognitive assistant   \n",
              "4      1276.0          deploy your python model as a restful api   \n",
              "\n",
              "                                      email  \n",
              "0  ef5f11f77ba020cd36e1105a00ab868bbdbf7fe7  \n",
              "1  083cbdfa93c8444beaa4c5f5e0f5f9198e4f9e0b  \n",
              "2  b96a4f2e92d8572034b1e9b28f9ac673765cd074  \n",
              "3  06485706b34a5c9bf2a0ecdac41daf7e7654ceb7  \n",
              "4  f01220c46fc92c6e6b161b1849de11faacd7ccb2  "
            ],
            "text/html": [
              "\n",
              "  <div id=\"df-8eda85eb-9c1f-4f3d-96d0-3a47e8fae013\">\n",
              "    <div class=\"colab-df-container\">\n",
              "      <div>\n",
              "<style scoped>\n",
              "    .dataframe tbody tr th:only-of-type {\n",
              "        vertical-align: middle;\n",
              "    }\n",
              "\n",
              "    .dataframe tbody tr th {\n",
              "        vertical-align: top;\n",
              "    }\n",
              "\n",
              "    .dataframe thead th {\n",
              "        text-align: right;\n",
              "    }\n",
              "</style>\n",
              "<table border=\"1\" class=\"dataframe\">\n",
              "  <thead>\n",
              "    <tr style=\"text-align: right;\">\n",
              "      <th></th>\n",
              "      <th>article_id</th>\n",
              "      <th>title</th>\n",
              "      <th>email</th>\n",
              "    </tr>\n",
              "  </thead>\n",
              "  <tbody>\n",
              "    <tr>\n",
              "      <th>0</th>\n",
              "      <td>1430.0</td>\n",
              "      <td>using pixiedust for fast, flexible, and easier...</td>\n",
              "      <td>ef5f11f77ba020cd36e1105a00ab868bbdbf7fe7</td>\n",
              "    </tr>\n",
              "    <tr>\n",
              "      <th>1</th>\n",
              "      <td>1314.0</td>\n",
              "      <td>healthcare python streaming application demo</td>\n",
              "      <td>083cbdfa93c8444beaa4c5f5e0f5f9198e4f9e0b</td>\n",
              "    </tr>\n",
              "    <tr>\n",
              "      <th>2</th>\n",
              "      <td>1429.0</td>\n",
              "      <td>use deep learning for image classification</td>\n",
              "      <td>b96a4f2e92d8572034b1e9b28f9ac673765cd074</td>\n",
              "    </tr>\n",
              "    <tr>\n",
              "      <th>3</th>\n",
              "      <td>1338.0</td>\n",
              "      <td>ml optimization using cognitive assistant</td>\n",
              "      <td>06485706b34a5c9bf2a0ecdac41daf7e7654ceb7</td>\n",
              "    </tr>\n",
              "    <tr>\n",
              "      <th>4</th>\n",
              "      <td>1276.0</td>\n",
              "      <td>deploy your python model as a restful api</td>\n",
              "      <td>f01220c46fc92c6e6b161b1849de11faacd7ccb2</td>\n",
              "    </tr>\n",
              "  </tbody>\n",
              "</table>\n",
              "</div>\n",
              "      <button class=\"colab-df-convert\" onclick=\"convertToInteractive('df-8eda85eb-9c1f-4f3d-96d0-3a47e8fae013')\"\n",
              "              title=\"Convert this dataframe to an interactive table.\"\n",
              "              style=\"display:none;\">\n",
              "        \n",
              "  <svg xmlns=\"http://www.w3.org/2000/svg\" height=\"24px\"viewBox=\"0 0 24 24\"\n",
              "       width=\"24px\">\n",
              "    <path d=\"M0 0h24v24H0V0z\" fill=\"none\"/>\n",
              "    <path d=\"M18.56 5.44l.94 2.06.94-2.06 2.06-.94-2.06-.94-.94-2.06-.94 2.06-2.06.94zm-11 1L8.5 8.5l.94-2.06 2.06-.94-2.06-.94L8.5 2.5l-.94 2.06-2.06.94zm10 10l.94 2.06.94-2.06 2.06-.94-2.06-.94-.94-2.06-.94 2.06-2.06.94z\"/><path d=\"M17.41 7.96l-1.37-1.37c-.4-.4-.92-.59-1.43-.59-.52 0-1.04.2-1.43.59L10.3 9.45l-7.72 7.72c-.78.78-.78 2.05 0 2.83L4 21.41c.39.39.9.59 1.41.59.51 0 1.02-.2 1.41-.59l7.78-7.78 2.81-2.81c.8-.78.8-2.07 0-2.86zM5.41 20L4 18.59l7.72-7.72 1.47 1.35L5.41 20z\"/>\n",
              "  </svg>\n",
              "      </button>\n",
              "      \n",
              "  <style>\n",
              "    .colab-df-container {\n",
              "      display:flex;\n",
              "      flex-wrap:wrap;\n",
              "      gap: 12px;\n",
              "    }\n",
              "\n",
              "    .colab-df-convert {\n",
              "      background-color: #E8F0FE;\n",
              "      border: none;\n",
              "      border-radius: 50%;\n",
              "      cursor: pointer;\n",
              "      display: none;\n",
              "      fill: #1967D2;\n",
              "      height: 32px;\n",
              "      padding: 0 0 0 0;\n",
              "      width: 32px;\n",
              "    }\n",
              "\n",
              "    .colab-df-convert:hover {\n",
              "      background-color: #E2EBFA;\n",
              "      box-shadow: 0px 1px 2px rgba(60, 64, 67, 0.3), 0px 1px 3px 1px rgba(60, 64, 67, 0.15);\n",
              "      fill: #174EA6;\n",
              "    }\n",
              "\n",
              "    [theme=dark] .colab-df-convert {\n",
              "      background-color: #3B4455;\n",
              "      fill: #D2E3FC;\n",
              "    }\n",
              "\n",
              "    [theme=dark] .colab-df-convert:hover {\n",
              "      background-color: #434B5C;\n",
              "      box-shadow: 0px 1px 3px 1px rgba(0, 0, 0, 0.15);\n",
              "      filter: drop-shadow(0px 1px 2px rgba(0, 0, 0, 0.3));\n",
              "      fill: #FFFFFF;\n",
              "    }\n",
              "  </style>\n",
              "\n",
              "      <script>\n",
              "        const buttonEl =\n",
              "          document.querySelector('#df-8eda85eb-9c1f-4f3d-96d0-3a47e8fae013 button.colab-df-convert');\n",
              "        buttonEl.style.display =\n",
              "          google.colab.kernel.accessAllowed ? 'block' : 'none';\n",
              "\n",
              "        async function convertToInteractive(key) {\n",
              "          const element = document.querySelector('#df-8eda85eb-9c1f-4f3d-96d0-3a47e8fae013');\n",
              "          const dataTable =\n",
              "            await google.colab.kernel.invokeFunction('convertToInteractive',\n",
              "                                                     [key], {});\n",
              "          if (!dataTable) return;\n",
              "\n",
              "          const docLinkHtml = 'Like what you see? Visit the ' +\n",
              "            '<a target=\"_blank\" href=https://colab.research.google.com/notebooks/data_table.ipynb>data table notebook</a>'\n",
              "            + ' to learn more about interactive tables.';\n",
              "          element.innerHTML = '';\n",
              "          dataTable['output_type'] = 'display_data';\n",
              "          await google.colab.output.renderOutput(dataTable, element);\n",
              "          const docLink = document.createElement('div');\n",
              "          docLink.innerHTML = docLinkHtml;\n",
              "          element.appendChild(docLink);\n",
              "        }\n",
              "      </script>\n",
              "    </div>\n",
              "  </div>\n",
              "  "
            ]
          },
          "metadata": {},
          "execution_count": 143
        }
      ]
    },
    {
      "cell_type": "code",
      "execution_count": null,
      "metadata": {
        "collapsed": true,
        "colab": {
          "base_uri": "https://localhost:8080/",
          "height": 424
        },
        "id": "f8FS0ZInaTbE",
        "outputId": "4ee4ad4b-9cb0-45e9-8f7b-67d8bef99ce6"
      },
      "outputs": [
        {
          "output_type": "execute_result",
          "data": {
            "text/plain": [
              "                                            doc_body  \\\n",
              "0  Skip navigation Sign in SearchLoading...\\r\\n\\r...   \n",
              "1  No Free Hunch Navigation * kaggle.com\\r\\n\\r\\n ...   \n",
              "2  ☰ * Login\\r\\n * Sign Up\\r\\n\\r\\n * Learning Pat...   \n",
              "3  DATALAYER: HIGH THROUGHPUT, LOW LATENCY AT SCA...   \n",
              "4  Skip navigation Sign in SearchLoading...\\r\\n\\r...   \n",
              "\n",
              "                                     doc_description  \\\n",
              "0  Detect bad readings in real time using Python ...   \n",
              "1  See the forest, see the trees. Here lies the c...   \n",
              "2  Here’s this week’s news in Data Science and Bi...   \n",
              "3  Learn how distributed DBs solve the problem of...   \n",
              "4  This video demonstrates the power of IBM DataS...   \n",
              "\n",
              "                                       doc_full_name doc_status  article_id  \n",
              "0  Detect Malfunctioning IoT Sensors with Streami...       Live           0  \n",
              "1  Communicating data science: A guide to present...       Live           1  \n",
              "2         This Week in Data Science (April 18, 2017)       Live           2  \n",
              "3  DataLayer Conference: Boost the performance of...       Live           3  \n",
              "4      Analyze NY Restaurant data using Spark in DSX       Live           4  "
            ],
            "text/html": [
              "\n",
              "  <div id=\"df-0a3bdbb9-480d-417e-8cfc-5bf1c499c61c\">\n",
              "    <div class=\"colab-df-container\">\n",
              "      <div>\n",
              "<style scoped>\n",
              "    .dataframe tbody tr th:only-of-type {\n",
              "        vertical-align: middle;\n",
              "    }\n",
              "\n",
              "    .dataframe tbody tr th {\n",
              "        vertical-align: top;\n",
              "    }\n",
              "\n",
              "    .dataframe thead th {\n",
              "        text-align: right;\n",
              "    }\n",
              "</style>\n",
              "<table border=\"1\" class=\"dataframe\">\n",
              "  <thead>\n",
              "    <tr style=\"text-align: right;\">\n",
              "      <th></th>\n",
              "      <th>doc_body</th>\n",
              "      <th>doc_description</th>\n",
              "      <th>doc_full_name</th>\n",
              "      <th>doc_status</th>\n",
              "      <th>article_id</th>\n",
              "    </tr>\n",
              "  </thead>\n",
              "  <tbody>\n",
              "    <tr>\n",
              "      <th>0</th>\n",
              "      <td>Skip navigation Sign in SearchLoading...\\r\\n\\r...</td>\n",
              "      <td>Detect bad readings in real time using Python ...</td>\n",
              "      <td>Detect Malfunctioning IoT Sensors with Streami...</td>\n",
              "      <td>Live</td>\n",
              "      <td>0</td>\n",
              "    </tr>\n",
              "    <tr>\n",
              "      <th>1</th>\n",
              "      <td>No Free Hunch Navigation * kaggle.com\\r\\n\\r\\n ...</td>\n",
              "      <td>See the forest, see the trees. Here lies the c...</td>\n",
              "      <td>Communicating data science: A guide to present...</td>\n",
              "      <td>Live</td>\n",
              "      <td>1</td>\n",
              "    </tr>\n",
              "    <tr>\n",
              "      <th>2</th>\n",
              "      <td>☰ * Login\\r\\n * Sign Up\\r\\n\\r\\n * Learning Pat...</td>\n",
              "      <td>Here’s this week’s news in Data Science and Bi...</td>\n",
              "      <td>This Week in Data Science (April 18, 2017)</td>\n",
              "      <td>Live</td>\n",
              "      <td>2</td>\n",
              "    </tr>\n",
              "    <tr>\n",
              "      <th>3</th>\n",
              "      <td>DATALAYER: HIGH THROUGHPUT, LOW LATENCY AT SCA...</td>\n",
              "      <td>Learn how distributed DBs solve the problem of...</td>\n",
              "      <td>DataLayer Conference: Boost the performance of...</td>\n",
              "      <td>Live</td>\n",
              "      <td>3</td>\n",
              "    </tr>\n",
              "    <tr>\n",
              "      <th>4</th>\n",
              "      <td>Skip navigation Sign in SearchLoading...\\r\\n\\r...</td>\n",
              "      <td>This video demonstrates the power of IBM DataS...</td>\n",
              "      <td>Analyze NY Restaurant data using Spark in DSX</td>\n",
              "      <td>Live</td>\n",
              "      <td>4</td>\n",
              "    </tr>\n",
              "  </tbody>\n",
              "</table>\n",
              "</div>\n",
              "      <button class=\"colab-df-convert\" onclick=\"convertToInteractive('df-0a3bdbb9-480d-417e-8cfc-5bf1c499c61c')\"\n",
              "              title=\"Convert this dataframe to an interactive table.\"\n",
              "              style=\"display:none;\">\n",
              "        \n",
              "  <svg xmlns=\"http://www.w3.org/2000/svg\" height=\"24px\"viewBox=\"0 0 24 24\"\n",
              "       width=\"24px\">\n",
              "    <path d=\"M0 0h24v24H0V0z\" fill=\"none\"/>\n",
              "    <path d=\"M18.56 5.44l.94 2.06.94-2.06 2.06-.94-2.06-.94-.94-2.06-.94 2.06-2.06.94zm-11 1L8.5 8.5l.94-2.06 2.06-.94-2.06-.94L8.5 2.5l-.94 2.06-2.06.94zm10 10l.94 2.06.94-2.06 2.06-.94-2.06-.94-.94-2.06-.94 2.06-2.06.94z\"/><path d=\"M17.41 7.96l-1.37-1.37c-.4-.4-.92-.59-1.43-.59-.52 0-1.04.2-1.43.59L10.3 9.45l-7.72 7.72c-.78.78-.78 2.05 0 2.83L4 21.41c.39.39.9.59 1.41.59.51 0 1.02-.2 1.41-.59l7.78-7.78 2.81-2.81c.8-.78.8-2.07 0-2.86zM5.41 20L4 18.59l7.72-7.72 1.47 1.35L5.41 20z\"/>\n",
              "  </svg>\n",
              "      </button>\n",
              "      \n",
              "  <style>\n",
              "    .colab-df-container {\n",
              "      display:flex;\n",
              "      flex-wrap:wrap;\n",
              "      gap: 12px;\n",
              "    }\n",
              "\n",
              "    .colab-df-convert {\n",
              "      background-color: #E8F0FE;\n",
              "      border: none;\n",
              "      border-radius: 50%;\n",
              "      cursor: pointer;\n",
              "      display: none;\n",
              "      fill: #1967D2;\n",
              "      height: 32px;\n",
              "      padding: 0 0 0 0;\n",
              "      width: 32px;\n",
              "    }\n",
              "\n",
              "    .colab-df-convert:hover {\n",
              "      background-color: #E2EBFA;\n",
              "      box-shadow: 0px 1px 2px rgba(60, 64, 67, 0.3), 0px 1px 3px 1px rgba(60, 64, 67, 0.15);\n",
              "      fill: #174EA6;\n",
              "    }\n",
              "\n",
              "    [theme=dark] .colab-df-convert {\n",
              "      background-color: #3B4455;\n",
              "      fill: #D2E3FC;\n",
              "    }\n",
              "\n",
              "    [theme=dark] .colab-df-convert:hover {\n",
              "      background-color: #434B5C;\n",
              "      box-shadow: 0px 1px 3px 1px rgba(0, 0, 0, 0.15);\n",
              "      filter: drop-shadow(0px 1px 2px rgba(0, 0, 0, 0.3));\n",
              "      fill: #FFFFFF;\n",
              "    }\n",
              "  </style>\n",
              "\n",
              "      <script>\n",
              "        const buttonEl =\n",
              "          document.querySelector('#df-0a3bdbb9-480d-417e-8cfc-5bf1c499c61c button.colab-df-convert');\n",
              "        buttonEl.style.display =\n",
              "          google.colab.kernel.accessAllowed ? 'block' : 'none';\n",
              "\n",
              "        async function convertToInteractive(key) {\n",
              "          const element = document.querySelector('#df-0a3bdbb9-480d-417e-8cfc-5bf1c499c61c');\n",
              "          const dataTable =\n",
              "            await google.colab.kernel.invokeFunction('convertToInteractive',\n",
              "                                                     [key], {});\n",
              "          if (!dataTable) return;\n",
              "\n",
              "          const docLinkHtml = 'Like what you see? Visit the ' +\n",
              "            '<a target=\"_blank\" href=https://colab.research.google.com/notebooks/data_table.ipynb>data table notebook</a>'\n",
              "            + ' to learn more about interactive tables.';\n",
              "          element.innerHTML = '';\n",
              "          dataTable['output_type'] = 'display_data';\n",
              "          await google.colab.output.renderOutput(dataTable, element);\n",
              "          const docLink = document.createElement('div');\n",
              "          docLink.innerHTML = docLinkHtml;\n",
              "          element.appendChild(docLink);\n",
              "        }\n",
              "      </script>\n",
              "    </div>\n",
              "  </div>\n",
              "  "
            ]
          },
          "metadata": {},
          "execution_count": 105
        }
      ],
      "source": [
        "# Show df_content to get an idea of the data\n",
        "df_content.head()"
      ]
    },
    {
      "cell_type": "markdown",
      "metadata": {
        "id": "Ref_bu-ZaTbE"
      },
      "source": [
        "### <a class=\"anchor\" id=\"Exploratory-Data-Analysis\">Part I : Exploratory Data Analysis</a>\n",
        "\n",
        "Use the dictionary and cells below to provide some insight into the descriptive statistics of the data.\n",
        "\n",
        "`1.` What is the distribution of how many articles a user interacts with in the dataset?  Provide a visual and descriptive statistics to assist with giving a look at the number of times each user interacts with an article.  "
      ]
    },
    {
      "cell_type": "code",
      "execution_count": 145,
      "metadata": {
        "collapsed": true,
        "colab": {
          "base_uri": "https://localhost:8080/"
        },
        "id": "CZbaZQOmaTbG",
        "outputId": "9f61cbba-47c1-4754-a913-682af291fe04"
      },
      "outputs": [
        {
          "output_type": "stream",
          "name": "stdout",
          "text": [
            "The number of articles is 1056.\n",
            "The number of unique users is 5148.\n",
            "The number of interactions is 45993.\n"
          ]
        }
      ],
      "source": [
        "# Number of articles\n",
        "print(f\"The number of articles is {df_content.shape[0]}.\")\n",
        "\n",
        "# Number of users\n",
        "print(f\"The number of unique users is {df.email.nunique()}.\")\n",
        "\n",
        "# Number of interactions\n",
        "print(f\"The number of interactions is {df.shape[0]}.\")"
      ]
    },
    {
      "cell_type": "code",
      "execution_count": 146,
      "metadata": {
        "collapsed": true,
        "colab": {
          "base_uri": "https://localhost:8080/"
        },
        "id": "VeffYw0jaTbG",
        "outputId": "34dd5bbc-38b8-4021-84f9-3c525be0e1ad"
      },
      "outputs": [
        {
          "output_type": "stream",
          "name": "stdout",
          "text": [
            "The status of a document can be: Live.\n",
            "\n",
            "Missing values in the content dataframe:\n",
            "doc_body           14\n",
            "doc_description     3\n",
            "doc_full_name       0\n",
            "doc_status          0\n",
            "article_id          0\n",
            "dtype: int64\n",
            "\n",
            "Missing values in the interaction dataframe:\n",
            "article_id     0\n",
            "title          0\n",
            "email         17\n",
            "dtype: int64\n"
          ]
        }
      ],
      "source": [
        "# Different status\n",
        "status = np.array(df_content.doc_status.unique()[0])\n",
        "print(f\"The status of a document can be: {status}.\")\n",
        "\n",
        "# Missing values in the content df\n",
        "print(\"\\nMissing values in the content dataframe:\")\n",
        "print(df_content.isnull().sum())\n",
        "\n",
        "# Missing values in the interaction df\n",
        "print(\"\\nMissing values in the interaction dataframe:\")\n",
        "print(df.isnull().sum())"
      ]
    },
    {
      "cell_type": "code",
      "execution_count": null,
      "metadata": {
        "collapsed": true,
        "id": "ieRfYl1gaTbG"
      },
      "outputs": [],
      "source": [
        "interact_by_users = df.groupby('email').count()['article_id']\n",
        "\n",
        "# Average\n",
        "avg_interact = interact_by_users.mean()\n",
        "print(f\"The average interaction per user is: {avg_interact}\")\n",
        "\n",
        "# Maximum\n",
        "max_views_by_user = interact_by_users.max()\n",
        "print(f\"The maximum interaction of a user is: {max_views_by_user}\")\n",
        "\n",
        "# Median\n",
        "median_val = interact_by_users.median()\n",
        "print(f\"The median interaction per user is: {median_val}\")"
      ]
    },
    {
      "cell_type": "markdown",
      "metadata": {
        "id": "ptEMVIgGaTbH"
      },
      "source": [
        "`2.` Explore and remove duplicate articles from the **df_content** dataframe.  "
      ]
    },
    {
      "cell_type": "code",
      "execution_count": 148,
      "metadata": {
        "collapsed": true,
        "colab": {
          "base_uri": "https://localhost:8080/"
        },
        "id": "T73yfwtRaTbH",
        "outputId": "e823dabc-0f3f-4e0d-fc5a-7b9097d5d91d"
      },
      "outputs": [
        {
          "output_type": "stream",
          "name": "stdout",
          "text": [
            "                                              doc_body  \\\n",
            "365  Follow Sign in / Sign up Home About Insight Da...   \n",
            "692  Homepage Follow Sign in / Sign up Homepage * H...   \n",
            "761  Homepage Follow Sign in Get started Homepage *...   \n",
            "970  This video shows you how to construct queries ...   \n",
            "971  Homepage Follow Sign in Get started * Home\\r\\n...   \n",
            "\n",
            "                                       doc_description  \\\n",
            "365  During the seven-week Insight Data Engineering...   \n",
            "692  One of the earliest documented catalogs was co...   \n",
            "761  Today’s world of data science leverages data f...   \n",
            "970  This video shows you how to construct queries ...   \n",
            "971  If you are like most data scientists, you are ...   \n",
            "\n",
            "                                         doc_full_name doc_status  article_id  \n",
            "365                       Graph-based machine learning       Live          50  \n",
            "692  How smart catalogs can turn the big data flood...       Live         221  \n",
            "761  Using Apache Spark as a parallel processing fr...       Live         398  \n",
            "970                              Use the Primary Index       Live         577  \n",
            "971  Self-service data preparation with IBM Data Re...       Live         232  \n"
          ]
        }
      ],
      "source": [
        "# Find and explore duplicate articles\n",
        "duplicates = df_content[df_content['article_id'].duplicated() == True]\n",
        "\n",
        "print(duplicates)"
      ]
    },
    {
      "cell_type": "code",
      "execution_count": 149,
      "metadata": {
        "colab": {
          "base_uri": "https://localhost:8080/"
        },
        "id": "5hnoex-OaTbI",
        "outputId": "bcee70ff-392a-4e69-dda7-3576b7a811c3"
      },
      "outputs": [
        {
          "output_type": "stream",
          "name": "stdout",
          "text": [
            "0\n"
          ]
        }
      ],
      "source": [
        "# Remove any rows that have the same article_id - only keep the first\n",
        "df_content.drop_duplicates(subset=['article_id'], inplace=True)\n",
        "\n",
        "print(df_content['doc_full_name'].duplicated().sum())"
      ]
    },
    {
      "cell_type": "markdown",
      "metadata": {
        "id": "hgF3Fxu0aTbJ"
      },
      "source": [
        "`3.` Use the cells below to find:\n",
        "\n",
        "**a.** The number of unique articles that have an interaction with a user.  \n",
        "**b.** The number of unique articles in the dataset (whether they have any interactions or not).<br>\n",
        "**c.** The number of unique users in the dataset. (excluding null values) <br>\n",
        "**d.** The number of user-article interactions in the dataset."
      ]
    },
    {
      "cell_type": "code",
      "execution_count": 150,
      "metadata": {
        "collapsed": true,
        "colab": {
          "base_uri": "https://localhost:8080/"
        },
        "id": "TY0BBTIgaTbK",
        "outputId": "4bb4ae05-260b-48ba-d7a0-6cc95f71c68a"
      },
      "outputs": [
        {
          "output_type": "stream",
          "name": "stdout",
          "text": [
            "The number of unique articles that have an interaction with a user is 714.\n",
            "The number of unique articles is 1051.\n",
            "The number of unique users in the dataset is 5148.\n",
            "The number of user-article interactions in the dataset is 45993.\n"
          ]
        }
      ],
      "source": [
        "# Number of of unique articles that have at least one interaction\n",
        "unique_articles = df.article_id.nunique()\n",
        "print(f\"The number of unique articles that have an interaction with a user is {unique_articles}.\")\n",
        "\n",
        "# Number of unique articles on the IBM platform\n",
        "total_articles = df_content.shape[0]\n",
        "print(f\"The number of unique articles is {total_articles}.\")\n",
        "\n",
        "# Number of unique users\n",
        "unique_users = df.email.nunique()\n",
        "print(f\"The number of unique users in the dataset is {unique_users}.\")\n",
        "\n",
        "# Number of user-article interactions\n",
        "user_article_interactions = df.shape[0]\n",
        "print(f\"The number of user-article interactions in the dataset is {user_article_interactions}.\")\n"
      ]
    },
    {
      "cell_type": "markdown",
      "metadata": {
        "id": "-z5y0u28aTbM"
      },
      "source": [
        "`4.` Use the cells below to find the most viewed **article_id**, as well as how often it was viewed.  After talking to the company leaders, the `email_mapper` function was deemed a reasonable way to map users to ids.  There were a small number of null values, and it was found that all of these null values likely belonged to a single user (which is how they are stored using the function below)."
      ]
    },
    {
      "cell_type": "code",
      "execution_count": 151,
      "metadata": {
        "collapsed": true,
        "colab": {
          "base_uri": "https://localhost:8080/",
          "height": 206
        },
        "id": "Hq5Mc95caTbM",
        "outputId": "5db0fcce-d68a-434c-f216-e316ec6a6ce6"
      },
      "outputs": [
        {
          "output_type": "execute_result",
          "data": {
            "text/plain": [
              "   article_id  email\n",
              "0         0.0     14\n",
              "1         2.0     58\n",
              "2         4.0     13\n",
              "3         8.0     85\n",
              "4         9.0     10"
            ],
            "text/html": [
              "\n",
              "  <div id=\"df-5deab5b1-e5bd-44b9-9266-9c387b2d5aef\">\n",
              "    <div class=\"colab-df-container\">\n",
              "      <div>\n",
              "<style scoped>\n",
              "    .dataframe tbody tr th:only-of-type {\n",
              "        vertical-align: middle;\n",
              "    }\n",
              "\n",
              "    .dataframe tbody tr th {\n",
              "        vertical-align: top;\n",
              "    }\n",
              "\n",
              "    .dataframe thead th {\n",
              "        text-align: right;\n",
              "    }\n",
              "</style>\n",
              "<table border=\"1\" class=\"dataframe\">\n",
              "  <thead>\n",
              "    <tr style=\"text-align: right;\">\n",
              "      <th></th>\n",
              "      <th>article_id</th>\n",
              "      <th>email</th>\n",
              "    </tr>\n",
              "  </thead>\n",
              "  <tbody>\n",
              "    <tr>\n",
              "      <th>0</th>\n",
              "      <td>0.0</td>\n",
              "      <td>14</td>\n",
              "    </tr>\n",
              "    <tr>\n",
              "      <th>1</th>\n",
              "      <td>2.0</td>\n",
              "      <td>58</td>\n",
              "    </tr>\n",
              "    <tr>\n",
              "      <th>2</th>\n",
              "      <td>4.0</td>\n",
              "      <td>13</td>\n",
              "    </tr>\n",
              "    <tr>\n",
              "      <th>3</th>\n",
              "      <td>8.0</td>\n",
              "      <td>85</td>\n",
              "    </tr>\n",
              "    <tr>\n",
              "      <th>4</th>\n",
              "      <td>9.0</td>\n",
              "      <td>10</td>\n",
              "    </tr>\n",
              "  </tbody>\n",
              "</table>\n",
              "</div>\n",
              "      <button class=\"colab-df-convert\" onclick=\"convertToInteractive('df-5deab5b1-e5bd-44b9-9266-9c387b2d5aef')\"\n",
              "              title=\"Convert this dataframe to an interactive table.\"\n",
              "              style=\"display:none;\">\n",
              "        \n",
              "  <svg xmlns=\"http://www.w3.org/2000/svg\" height=\"24px\"viewBox=\"0 0 24 24\"\n",
              "       width=\"24px\">\n",
              "    <path d=\"M0 0h24v24H0V0z\" fill=\"none\"/>\n",
              "    <path d=\"M18.56 5.44l.94 2.06.94-2.06 2.06-.94-2.06-.94-.94-2.06-.94 2.06-2.06.94zm-11 1L8.5 8.5l.94-2.06 2.06-.94-2.06-.94L8.5 2.5l-.94 2.06-2.06.94zm10 10l.94 2.06.94-2.06 2.06-.94-2.06-.94-.94-2.06-.94 2.06-2.06.94z\"/><path d=\"M17.41 7.96l-1.37-1.37c-.4-.4-.92-.59-1.43-.59-.52 0-1.04.2-1.43.59L10.3 9.45l-7.72 7.72c-.78.78-.78 2.05 0 2.83L4 21.41c.39.39.9.59 1.41.59.51 0 1.02-.2 1.41-.59l7.78-7.78 2.81-2.81c.8-.78.8-2.07 0-2.86zM5.41 20L4 18.59l7.72-7.72 1.47 1.35L5.41 20z\"/>\n",
              "  </svg>\n",
              "      </button>\n",
              "      \n",
              "  <style>\n",
              "    .colab-df-container {\n",
              "      display:flex;\n",
              "      flex-wrap:wrap;\n",
              "      gap: 12px;\n",
              "    }\n",
              "\n",
              "    .colab-df-convert {\n",
              "      background-color: #E8F0FE;\n",
              "      border: none;\n",
              "      border-radius: 50%;\n",
              "      cursor: pointer;\n",
              "      display: none;\n",
              "      fill: #1967D2;\n",
              "      height: 32px;\n",
              "      padding: 0 0 0 0;\n",
              "      width: 32px;\n",
              "    }\n",
              "\n",
              "    .colab-df-convert:hover {\n",
              "      background-color: #E2EBFA;\n",
              "      box-shadow: 0px 1px 2px rgba(60, 64, 67, 0.3), 0px 1px 3px 1px rgba(60, 64, 67, 0.15);\n",
              "      fill: #174EA6;\n",
              "    }\n",
              "\n",
              "    [theme=dark] .colab-df-convert {\n",
              "      background-color: #3B4455;\n",
              "      fill: #D2E3FC;\n",
              "    }\n",
              "\n",
              "    [theme=dark] .colab-df-convert:hover {\n",
              "      background-color: #434B5C;\n",
              "      box-shadow: 0px 1px 3px 1px rgba(0, 0, 0, 0.15);\n",
              "      filter: drop-shadow(0px 1px 2px rgba(0, 0, 0, 0.3));\n",
              "      fill: #FFFFFF;\n",
              "    }\n",
              "  </style>\n",
              "\n",
              "      <script>\n",
              "        const buttonEl =\n",
              "          document.querySelector('#df-5deab5b1-e5bd-44b9-9266-9c387b2d5aef button.colab-df-convert');\n",
              "        buttonEl.style.display =\n",
              "          google.colab.kernel.accessAllowed ? 'block' : 'none';\n",
              "\n",
              "        async function convertToInteractive(key) {\n",
              "          const element = document.querySelector('#df-5deab5b1-e5bd-44b9-9266-9c387b2d5aef');\n",
              "          const dataTable =\n",
              "            await google.colab.kernel.invokeFunction('convertToInteractive',\n",
              "                                                     [key], {});\n",
              "          if (!dataTable) return;\n",
              "\n",
              "          const docLinkHtml = 'Like what you see? Visit the ' +\n",
              "            '<a target=\"_blank\" href=https://colab.research.google.com/notebooks/data_table.ipynb>data table notebook</a>'\n",
              "            + ' to learn more about interactive tables.';\n",
              "          element.innerHTML = '';\n",
              "          dataTable['output_type'] = 'display_data';\n",
              "          await google.colab.output.renderOutput(dataTable, element);\n",
              "          const docLink = document.createElement('div');\n",
              "          docLink.innerHTML = docLinkHtml;\n",
              "          element.appendChild(docLink);\n",
              "        }\n",
              "      </script>\n",
              "    </div>\n",
              "  </div>\n",
              "  "
            ]
          },
          "metadata": {},
          "execution_count": 151
        }
      ],
      "source": [
        "interact_by_articles = df.groupby('article_id').count()['email'].reset_index()\n",
        "\n",
        "interact_by_articles.head()"
      ]
    },
    {
      "cell_type": "code",
      "source": [
        "# The most viewed article in the dataset as a string with one value following the decimal \n",
        "most_viewed_article_id = str(interact_by_articles.loc[interact_by_articles['email'].idxmax()]['article_id'])\n",
        "print(f\"The most viewed article id is: {most_viewed_article_id}\")\n",
        "\n",
        "# The most viewed article in the dataset\n",
        "max_views = interact_by_articles.email.max()\n",
        "print(f\"The maximum views an article received was: {max_views}\")"
      ],
      "metadata": {
        "colab": {
          "base_uri": "https://localhost:8080/"
        },
        "id": "MQJ9s17MPksT",
        "outputId": "c128a730-362f-441c-f374-97b490b33fc4"
      },
      "execution_count": 152,
      "outputs": [
        {
          "output_type": "stream",
          "name": "stdout",
          "text": [
            "The most viewed article id is: 1429.0\n",
            "The maximum views an article received was: 937\n"
          ]
        }
      ]
    },
    {
      "cell_type": "code",
      "execution_count": 153,
      "metadata": {
        "collapsed": true,
        "colab": {
          "base_uri": "https://localhost:8080/",
          "height": 206
        },
        "id": "vZY6gvV2aTbN",
        "outputId": "cc0e3b31-d9d1-49a1-a9a5-1f5ea6291569"
      },
      "outputs": [
        {
          "output_type": "execute_result",
          "data": {
            "text/plain": [
              "   article_id                                              title  user_id\n",
              "0      1430.0  using pixiedust for fast, flexible, and easier...        1\n",
              "1      1314.0       healthcare python streaming application demo        2\n",
              "2      1429.0         use deep learning for image classification        3\n",
              "3      1338.0          ml optimization using cognitive assistant        4\n",
              "4      1276.0          deploy your python model as a restful api        5"
            ],
            "text/html": [
              "\n",
              "  <div id=\"df-5d6c7637-1b6a-44d4-be3d-6624ccba4262\">\n",
              "    <div class=\"colab-df-container\">\n",
              "      <div>\n",
              "<style scoped>\n",
              "    .dataframe tbody tr th:only-of-type {\n",
              "        vertical-align: middle;\n",
              "    }\n",
              "\n",
              "    .dataframe tbody tr th {\n",
              "        vertical-align: top;\n",
              "    }\n",
              "\n",
              "    .dataframe thead th {\n",
              "        text-align: right;\n",
              "    }\n",
              "</style>\n",
              "<table border=\"1\" class=\"dataframe\">\n",
              "  <thead>\n",
              "    <tr style=\"text-align: right;\">\n",
              "      <th></th>\n",
              "      <th>article_id</th>\n",
              "      <th>title</th>\n",
              "      <th>user_id</th>\n",
              "    </tr>\n",
              "  </thead>\n",
              "  <tbody>\n",
              "    <tr>\n",
              "      <th>0</th>\n",
              "      <td>1430.0</td>\n",
              "      <td>using pixiedust for fast, flexible, and easier...</td>\n",
              "      <td>1</td>\n",
              "    </tr>\n",
              "    <tr>\n",
              "      <th>1</th>\n",
              "      <td>1314.0</td>\n",
              "      <td>healthcare python streaming application demo</td>\n",
              "      <td>2</td>\n",
              "    </tr>\n",
              "    <tr>\n",
              "      <th>2</th>\n",
              "      <td>1429.0</td>\n",
              "      <td>use deep learning for image classification</td>\n",
              "      <td>3</td>\n",
              "    </tr>\n",
              "    <tr>\n",
              "      <th>3</th>\n",
              "      <td>1338.0</td>\n",
              "      <td>ml optimization using cognitive assistant</td>\n",
              "      <td>4</td>\n",
              "    </tr>\n",
              "    <tr>\n",
              "      <th>4</th>\n",
              "      <td>1276.0</td>\n",
              "      <td>deploy your python model as a restful api</td>\n",
              "      <td>5</td>\n",
              "    </tr>\n",
              "  </tbody>\n",
              "</table>\n",
              "</div>\n",
              "      <button class=\"colab-df-convert\" onclick=\"convertToInteractive('df-5d6c7637-1b6a-44d4-be3d-6624ccba4262')\"\n",
              "              title=\"Convert this dataframe to an interactive table.\"\n",
              "              style=\"display:none;\">\n",
              "        \n",
              "  <svg xmlns=\"http://www.w3.org/2000/svg\" height=\"24px\"viewBox=\"0 0 24 24\"\n",
              "       width=\"24px\">\n",
              "    <path d=\"M0 0h24v24H0V0z\" fill=\"none\"/>\n",
              "    <path d=\"M18.56 5.44l.94 2.06.94-2.06 2.06-.94-2.06-.94-.94-2.06-.94 2.06-2.06.94zm-11 1L8.5 8.5l.94-2.06 2.06-.94-2.06-.94L8.5 2.5l-.94 2.06-2.06.94zm10 10l.94 2.06.94-2.06 2.06-.94-2.06-.94-.94-2.06-.94 2.06-2.06.94z\"/><path d=\"M17.41 7.96l-1.37-1.37c-.4-.4-.92-.59-1.43-.59-.52 0-1.04.2-1.43.59L10.3 9.45l-7.72 7.72c-.78.78-.78 2.05 0 2.83L4 21.41c.39.39.9.59 1.41.59.51 0 1.02-.2 1.41-.59l7.78-7.78 2.81-2.81c.8-.78.8-2.07 0-2.86zM5.41 20L4 18.59l7.72-7.72 1.47 1.35L5.41 20z\"/>\n",
              "  </svg>\n",
              "      </button>\n",
              "      \n",
              "  <style>\n",
              "    .colab-df-container {\n",
              "      display:flex;\n",
              "      flex-wrap:wrap;\n",
              "      gap: 12px;\n",
              "    }\n",
              "\n",
              "    .colab-df-convert {\n",
              "      background-color: #E8F0FE;\n",
              "      border: none;\n",
              "      border-radius: 50%;\n",
              "      cursor: pointer;\n",
              "      display: none;\n",
              "      fill: #1967D2;\n",
              "      height: 32px;\n",
              "      padding: 0 0 0 0;\n",
              "      width: 32px;\n",
              "    }\n",
              "\n",
              "    .colab-df-convert:hover {\n",
              "      background-color: #E2EBFA;\n",
              "      box-shadow: 0px 1px 2px rgba(60, 64, 67, 0.3), 0px 1px 3px 1px rgba(60, 64, 67, 0.15);\n",
              "      fill: #174EA6;\n",
              "    }\n",
              "\n",
              "    [theme=dark] .colab-df-convert {\n",
              "      background-color: #3B4455;\n",
              "      fill: #D2E3FC;\n",
              "    }\n",
              "\n",
              "    [theme=dark] .colab-df-convert:hover {\n",
              "      background-color: #434B5C;\n",
              "      box-shadow: 0px 1px 3px 1px rgba(0, 0, 0, 0.15);\n",
              "      filter: drop-shadow(0px 1px 2px rgba(0, 0, 0, 0.3));\n",
              "      fill: #FFFFFF;\n",
              "    }\n",
              "  </style>\n",
              "\n",
              "      <script>\n",
              "        const buttonEl =\n",
              "          document.querySelector('#df-5d6c7637-1b6a-44d4-be3d-6624ccba4262 button.colab-df-convert');\n",
              "        buttonEl.style.display =\n",
              "          google.colab.kernel.accessAllowed ? 'block' : 'none';\n",
              "\n",
              "        async function convertToInteractive(key) {\n",
              "          const element = document.querySelector('#df-5d6c7637-1b6a-44d4-be3d-6624ccba4262');\n",
              "          const dataTable =\n",
              "            await google.colab.kernel.invokeFunction('convertToInteractive',\n",
              "                                                     [key], {});\n",
              "          if (!dataTable) return;\n",
              "\n",
              "          const docLinkHtml = 'Like what you see? Visit the ' +\n",
              "            '<a target=\"_blank\" href=https://colab.research.google.com/notebooks/data_table.ipynb>data table notebook</a>'\n",
              "            + ' to learn more about interactive tables.';\n",
              "          element.innerHTML = '';\n",
              "          dataTable['output_type'] = 'display_data';\n",
              "          await google.colab.output.renderOutput(dataTable, element);\n",
              "          const docLink = document.createElement('div');\n",
              "          docLink.innerHTML = docLinkHtml;\n",
              "          element.appendChild(docLink);\n",
              "        }\n",
              "      </script>\n",
              "    </div>\n",
              "  </div>\n",
              "  "
            ]
          },
          "metadata": {},
          "execution_count": 153
        }
      ],
      "source": [
        "## No need to change the code here - this will be helpful for later parts of the notebook\n",
        "# Run this cell to map the user email to a user_id column and remove the email column\n",
        "\n",
        "def email_mapper():\n",
        "    coded_dict = dict()\n",
        "    cter = 1\n",
        "    email_encoded = []\n",
        "    \n",
        "    for val in df['email']:\n",
        "        if val not in coded_dict:\n",
        "            coded_dict[val] = cter\n",
        "            cter+=1\n",
        "        \n",
        "        email_encoded.append(coded_dict[val])\n",
        "    return email_encoded\n",
        "\n",
        "email_encoded = email_mapper()\n",
        "del df['email']\n",
        "df['user_id'] = email_encoded\n",
        "\n",
        "# show header\n",
        "df.head()"
      ]
    },
    {
      "cell_type": "code",
      "execution_count": 154,
      "metadata": {
        "collapsed": true,
        "colab": {
          "base_uri": "https://localhost:8080/"
        },
        "id": "6oOXhU1OaTbO",
        "outputId": "45075b2a-12ca-4fb4-c092-a686afd2b230"
      },
      "outputs": [
        {
          "output_type": "stream",
          "name": "stdout",
          "text": [
            "It looks like you have everything right here! Nice job!\n"
          ]
        }
      ],
      "source": [
        "## If you stored all your results in the variable names above, \n",
        "## you shouldn't need to change anything in this cell\n",
        "\n",
        "sol_1_dict = {\n",
        "    '`50% of individuals have _____ or fewer interactions.`': median_val,\n",
        "    '`The total number of user-article interactions in the dataset is ______.`': user_article_interactions,\n",
        "    '`The maximum number of user-article interactions by any 1 user is ______.`': max_views_by_user,\n",
        "    '`The most viewed article in the dataset was viewed _____ times.`': max_views,\n",
        "    '`The article_id of the most viewed article is ______.`': most_viewed_article_id,\n",
        "    '`The number of unique articles that have at least 1 rating ______.`': unique_articles,\n",
        "    '`The number of unique users in the dataset is ______`': unique_users,\n",
        "    '`The number of unique articles on the IBM platform`': total_articles\n",
        "}\n",
        "\n",
        "# Test your dictionary against the solution\n",
        "t.sol_1_test(sol_1_dict)"
      ]
    },
    {
      "cell_type": "markdown",
      "metadata": {
        "id": "tlGN5pZ_aTbO"
      },
      "source": [
        "### <a class=\"anchor\" id=\"Rank\">Part II: Rank-Based Recommendations</a>\n",
        "\n",
        "Unlike in the earlier lessons, we don't actually have ratings for whether a user liked an article or not.  We only know that a user has interacted with an article.  In these cases, the popularity of an article can really only be based on how often an article was interacted with.\n",
        "\n",
        "`1.` Fill in the function below to return the **n** top articles ordered with most interactions as the top. Test your function using the tests below."
      ]
    },
    {
      "cell_type": "code",
      "execution_count": 155,
      "metadata": {
        "collapsed": true,
        "id": "-V-w-D6CaTbP"
      },
      "outputs": [],
      "source": [
        "def get_top_articles(n, df=df):\n",
        "    '''\n",
        "    INPUT:\n",
        "    n - (int) the number of top articles to return\n",
        "    df - (pandas dataframe) df as defined at the top of the notebook \n",
        "    \n",
        "    OUTPUT:\n",
        "    top_articles - (list) A list of the top 'n' article titles \n",
        "    \n",
        "    '''\n",
        "    # count the numbers of interactions by article\n",
        "    articles_by_interactions = df['title'].value_counts().reset_index()\n",
        "    \n",
        "    # take the top n\n",
        "    top_articles = list(articles_by_interactions.head(n)['index'])\n",
        "    \n",
        "    return top_articles\n",
        "\n",
        "def get_top_article_ids(n, df=df):\n",
        "    '''\n",
        "    INPUT:\n",
        "    n - (int) the number of top articles to return\n",
        "    df - (pandas dataframe) df as defined at the top of the notebook \n",
        "    \n",
        "    OUTPUT:\n",
        "    top_articles - (list) A list of the top 'n' article titles \n",
        "    \n",
        "    '''\n",
        "    # count the numbers of interactions by article\n",
        "    articles_by_interactions = df['article_id'].value_counts().reset_index()\n",
        "    \n",
        "    # take the top n\n",
        "    id_list = list(articles_by_interactions.head(n)['index'])\n",
        "    \n",
        "    top_articles = [str(i) for i in id_list]\n",
        " \n",
        "    return top_articles"
      ]
    },
    {
      "cell_type": "code",
      "execution_count": 156,
      "metadata": {
        "collapsed": true,
        "colab": {
          "base_uri": "https://localhost:8080/"
        },
        "id": "Av7VxVf6aTbP",
        "outputId": "fce63734-76a5-4bd5-9e00-3020760907a7"
      },
      "outputs": [
        {
          "output_type": "stream",
          "name": "stdout",
          "text": [
            "['use deep learning for image classification', 'insights from new york car accident reports', 'visualize car data with brunel', 'use xgboost, scikit-learn & ibm watson machine learning apis', 'predicting churn with the spss random tree algorithm', 'healthcare python streaming application demo', 'finding optimal locations of new store using decision optimization', 'apache spark lab, part 1: basic concepts', 'analyze energy consumption in buildings', 'gosales transactions for logistic regression model']\n",
            "['1429.0', '1330.0', '1431.0', '1427.0', '1364.0', '1314.0', '1293.0', '1170.0', '1162.0', '1304.0']\n"
          ]
        }
      ],
      "source": [
        "print(get_top_articles(10))\n",
        "print(get_top_article_ids(10))"
      ]
    },
    {
      "cell_type": "code",
      "execution_count": 157,
      "metadata": {
        "collapsed": true,
        "colab": {
          "base_uri": "https://localhost:8080/"
        },
        "id": "muzX6jlvaTbQ",
        "outputId": "32573d55-557a-43e7-a384-00df29179016"
      },
      "outputs": [
        {
          "output_type": "stream",
          "name": "stdout",
          "text": [
            "Your top_5 looks like the solution list! Nice job.\n",
            "Your top_10 looks like the solution list! Nice job.\n",
            "Your top_20 looks like the solution list! Nice job.\n"
          ]
        }
      ],
      "source": [
        "# Test your function by returning the top 5, 10, and 20 articles\n",
        "top_5 = get_top_articles(5)\n",
        "top_10 = get_top_articles(10)\n",
        "top_20 = get_top_articles(20)\n",
        "\n",
        "# Test each of your three lists from above\n",
        "t.sol_2_test(get_top_articles)"
      ]
    },
    {
      "cell_type": "markdown",
      "metadata": {
        "id": "ztcxiI6caTbQ"
      },
      "source": [
        "### <a class=\"anchor\" id=\"User-User\">Part III: User-User Based Collaborative Filtering</a>\n",
        "\n",
        "\n",
        "`1.` Use the function below to reformat the **df** dataframe to be shaped with users as the rows and articles as the columns.  \n",
        "\n",
        "* Each **user** should only appear in each **row** once.\n",
        "\n",
        "\n",
        "* Each **article** should only show up in one **column**.  \n",
        "\n",
        "\n",
        "* **If a user has interacted with an article, then place a 1 where the user-row meets for that article-column**.  It does not matter how many times a user has interacted with the article, all entries where a user has interacted with an article should be a 1.  \n",
        "\n",
        "\n",
        "* **If a user has not interacted with an item, then place a zero where the user-row meets for that article-column**. \n",
        "\n",
        "Use the tests to make sure the basic structure of your matrix matches what is expected by the solution."
      ]
    },
    {
      "cell_type": "code",
      "execution_count": 158,
      "metadata": {
        "collapsed": true,
        "id": "8YZu_e-saTbQ"
      },
      "outputs": [],
      "source": [
        "# create the user-article matrix with 1's and 0's\n",
        "\n",
        "def create_user_item_matrix(df):\n",
        "    '''\n",
        "    INPUT:\n",
        "    df - pandas dataframe with article_id, title, user_id columns\n",
        "    \n",
        "    OUTPUT:\n",
        "    user_item - user item matrix \n",
        "    \n",
        "    Description:\n",
        "    Return a matrix with user ids as rows and article ids on the columns with 1 values where a user interacted with \n",
        "    an article and a 0 otherwise\n",
        "    '''\n",
        "    df['interacted'] = 1\n",
        "    \n",
        "    user_item = df.groupby(['user_id', 'article_id'])['interacted'].max().unstack(fill_value=0)\n",
        "    \n",
        "    return user_item # return the user_item matrix \n",
        "\n",
        "user_item = create_user_item_matrix(df)"
      ]
    },
    {
      "cell_type": "code",
      "execution_count": 159,
      "metadata": {
        "collapsed": true,
        "colab": {
          "base_uri": "https://localhost:8080/"
        },
        "id": "rCl01AIOaTbR",
        "outputId": "79bed3d6-e9f6-4526-f41f-e284987e8ae9"
      },
      "outputs": [
        {
          "output_type": "stream",
          "name": "stdout",
          "text": [
            "You have passed our quick tests!  Please proceed!\n"
          ]
        }
      ],
      "source": [
        "## Tests: You should just need to run this cell.  Don't change the code.\n",
        "assert user_item.shape[0] == 5149, \"Oops!  The number of users in the user-article matrix doesn't look right.\"\n",
        "assert user_item.shape[1] == 714, \"Oops!  The number of articles in the user-article matrix doesn't look right.\"\n",
        "assert user_item.sum(axis=1)[1] == 36, \"Oops!  The number of articles seen by user 1 doesn't look right.\"\n",
        "print(\"You have passed our quick tests!  Please proceed!\")"
      ]
    },
    {
      "cell_type": "markdown",
      "metadata": {
        "id": "TYsfu45naTbR"
      },
      "source": [
        "`2.` Complete the function below which should take a user_id and provide an ordered list of the most similar users to that user (from most similar to least similar).  The returned result should not contain the provided user_id, as we know that each user is similar to him/herself. Because the results for each user here are binary, it (perhaps) makes sense to compute similarity as the dot product of two users. \n",
        "\n",
        "Use the tests to test your function."
      ]
    },
    {
      "cell_type": "code",
      "execution_count": 160,
      "metadata": {
        "collapsed": true,
        "id": "2HZXq-0zaTbS"
      },
      "outputs": [],
      "source": [
        "def find_similar_users(user_id, user_item=user_item):\n",
        "    '''\n",
        "    INPUT:\n",
        "    user_id - (int) a user_id\n",
        "    user_item - (pandas dataframe) matrix of users by articles: \n",
        "                1's when a user has interacted with an article, 0 otherwise\n",
        "    \n",
        "    OUTPUT:\n",
        "    similar_users - (list) an ordered list where the closest users (largest dot product users)\n",
        "                    are listed first\n",
        "    \n",
        "    Description:\n",
        "    Computes the similarity of every pair of users based on the dot product\n",
        "    Returns an ordered\n",
        "    \n",
        "    '''\n",
        "    # Compute similarity of each user to the provided user\n",
        "    user_1 = np.array(user_item.loc[user_id])\n",
        "    similarity = user_item.dot(user_1)\n",
        "    \n",
        "    # Sort by similarity\n",
        "    similarity = similarity.sort_values(ascending=False)\n",
        "    \n",
        "    # Remove the own user's id\n",
        "    similarity = similarity.drop(user_id)\n",
        "    \n",
        "    # Create list of just the ids\n",
        "    most_similar_users = list(similarity.index)\n",
        "    \n",
        "    return most_similar_users"
      ]
    },
    {
      "cell_type": "code",
      "execution_count": 161,
      "metadata": {
        "collapsed": true,
        "colab": {
          "base_uri": "https://localhost:8080/"
        },
        "id": "QUg3SIidaTbT",
        "outputId": "44b90e02-8342-478e-fcf7-19bdceef9d1c"
      },
      "outputs": [
        {
          "output_type": "stream",
          "name": "stdout",
          "text": [
            "The 10 most similar users to user 1 are: [3933, 23, 3782, 203, 4459, 3870, 131, 4201, 46, 5041]\n",
            "The 5 most similar users to user 3933 are: [1, 23, 3782, 203, 4459]\n",
            "The 3 most similar users to user 46 are: [4201, 3782, 23]\n"
          ]
        }
      ],
      "source": [
        "# Do a spot check of your function\n",
        "print(\"The 10 most similar users to user 1 are: {}\".format(find_similar_users(1)[:10]))\n",
        "print(\"The 5 most similar users to user 3933 are: {}\".format(find_similar_users(3933)[:5]))\n",
        "print(\"The 3 most similar users to user 46 are: {}\".format(find_similar_users(46)[:3]))"
      ]
    },
    {
      "cell_type": "markdown",
      "metadata": {
        "id": "eiSm5bqQaTbT"
      },
      "source": [
        "`3.` Now that you have a function that provides the most similar users to each user, you will want to use these users to find articles you can recommend.  Complete the functions below to return the articles you would recommend to each user. "
      ]
    },
    {
      "cell_type": "code",
      "execution_count": 162,
      "metadata": {
        "collapsed": true,
        "id": "YeQhuL2daTbT"
      },
      "outputs": [],
      "source": [
        "def get_article_names(article_ids, df=df):\n",
        "    '''\n",
        "    INPUT:\n",
        "    article_ids - (list) a list of article ids\n",
        "    df - (pandas dataframe) df as defined at the top of the notebook\n",
        "    \n",
        "    OUTPUT:\n",
        "    article_names - (list) a list of article names associated with the list of article ids \n",
        "                    (this is identified by the title column)\n",
        "    '''\n",
        "    article_names =[]\n",
        "    for id in article_ids:\n",
        "        article_names.append(df[df['article_id']==float(id)]['title'].max())\n",
        "    \n",
        "    return article_names # Return the article names associated with list of article ids\n",
        "\n",
        "\n",
        "def get_user_articles(user_id, user_item=user_item):\n",
        "    '''\n",
        "    INPUT:\n",
        "    user_id - (int) a user id\n",
        "    user_item - (pandas dataframe) matrix of users by articles: \n",
        "                1's when a user has interacted with an article, 0 otherwise\n",
        "    \n",
        "    OUTPUT:\n",
        "    article_ids - (list) a list of the article ids seen by the user\n",
        "    article_names - (list) a list of article names associated with the list of article ids \n",
        "                    (this is identified by the doc_full_name column in df_content)\n",
        "    \n",
        "    Description:\n",
        "    Provides a list of the article_ids and article titles that have been seen by a user\n",
        "    '''\n",
        "    user_data = user_item.loc[user_id]\n",
        "    article_ids = user_data[user_data == 1].index.astype(str).tolist()\n",
        "    article_names = get_article_names(article_ids, df)\n",
        "    \n",
        "    return article_ids, article_names  \n",
        "\n",
        "\n",
        "def user_user_recs(user_id, m=10):\n",
        "    '''\n",
        "    INPUT:\n",
        "    user_id - (int) a user id\n",
        "    m - (int) the number of recommendations you want for the user\n",
        "    \n",
        "    OUTPUT:\n",
        "    recs - (list) a list of recommendations for the user\n",
        "    \n",
        "    Description:\n",
        "    Loops through the users based on closeness to the input user_id\n",
        "    For each user - finds articles the user hasn't seen before and provides them as recs\n",
        "    Does this until m recommendations are found\n",
        "    \n",
        "    Notes:\n",
        "    Users who are the same closeness are chosen arbitrarily as the 'next' user\n",
        "    \n",
        "    For the user where the number of recommended articles starts below m \n",
        "    and ends exceeding m, the last items are chosen arbitrarily\n",
        "    \n",
        "    '''\n",
        "    most_similar_users = find_similar_users(user_id, user_item)  # Output: a list of user_id\n",
        "    \n",
        "    read_ids, _ = get_user_articles(user_id, user_item=user_item)\n",
        "    \n",
        "    recs = []\n",
        "    \n",
        "    for user in most_similar_users:\n",
        "        if len(recs) >= m:\n",
        "            break\n",
        "        \n",
        "        potential_ids, _ = get_user_articles(user, user_item=user_item)\n",
        "        article_ids = set(potential_ids) - set(read_ids)\n",
        "        new_recs = np.setdiff1d(list(article_ids), recs)\n",
        "        recs.extend(new_recs)\n",
        "    \n",
        "    recs = recs[:m]\n",
        "    \n",
        "    return recs "
      ]
    },
    {
      "cell_type": "code",
      "execution_count": 163,
      "metadata": {
        "collapsed": true,
        "colab": {
          "base_uri": "https://localhost:8080/"
        },
        "id": "UA3hLchCaTbT",
        "outputId": "4fdcebce-27e7-4a2a-d5e2-ada8caa565a0"
      },
      "outputs": [
        {
          "output_type": "execute_result",
          "data": {
            "text/plain": [
              "['recommender systems: approaches & algorithms',\n",
              " '1448    i ranked every intro to data science course on...\\nName: title, dtype: object',\n",
              " 'data tidying in data science experience',\n",
              " 'a tensorflow regression model to predict house values',\n",
              " '520    using notebooks with pixiedust for fast, flexi...\\nName: title, dtype: object',\n",
              " 'airbnb data for analytics: mallorca reviews',\n",
              " 'airbnb data for analytics: vancouver listings',\n",
              " 'analyze facebook data using ibm watson and watson studio',\n",
              " 'analyze accident reports on amazon emr spark',\n",
              " 'analyze energy consumption in buildings']"
            ]
          },
          "metadata": {},
          "execution_count": 163
        }
      ],
      "source": [
        "# Check Results\n",
        "get_article_names(user_user_recs(1, 10)) # Return 10 recommendations for user 1"
      ]
    },
    {
      "cell_type": "code",
      "execution_count": 164,
      "metadata": {
        "collapsed": true,
        "colab": {
          "base_uri": "https://localhost:8080/"
        },
        "id": "7fIKoyMOaTbU",
        "outputId": "ecc98789-f805-4b4a-e761-0e2585b37bef"
      },
      "outputs": [
        {
          "output_type": "stream",
          "name": "stdout",
          "text": [
            "If this is all you see, you passed all of our tests!  Nice job!\n"
          ]
        }
      ],
      "source": [
        "# Test your functions here - No need to change this code - just run this cell\n",
        "assert set(get_article_names(['1024.0', '1176.0', '1305.0', '1314.0', '1422.0', '1427.0'])) == set(['using deep learning to reconstruct high-resolution audio', 'build a python app on the streaming analytics service', 'gosales transactions for naive bayes model', 'healthcare python streaming application demo', 'use r dataframes & ibm watson natural language understanding', 'use xgboost, scikit-learn & ibm watson machine learning apis']), \"Oops! Your the get_article_names function doesn't work quite how we expect.\"\n",
        "assert set(get_article_names(['1320.0', '232.0', '844.0'])) == set(['housing (2015): united states demographic measures','self-service data preparation with ibm data refinery','use the cloudant-spark connector in python notebook']), \"Oops! Your the get_article_names function doesn't work quite how we expect.\"\n",
        "assert set(get_user_articles(20)[0]) == set(['1320.0', '232.0', '844.0'])\n",
        "assert set(get_user_articles(20)[1]) == set(['housing (2015): united states demographic measures', 'self-service data preparation with ibm data refinery','use the cloudant-spark connector in python notebook'])\n",
        "assert set(get_user_articles(2)[0]) == set(['1024.0', '1176.0', '1305.0', '1314.0', '1422.0', '1427.0'])\n",
        "assert set(get_user_articles(2)[1]) == set(['using deep learning to reconstruct high-resolution audio', 'build a python app on the streaming analytics service', 'gosales transactions for naive bayes model', 'healthcare python streaming application demo', 'use r dataframes & ibm watson natural language understanding', 'use xgboost, scikit-learn & ibm watson machine learning apis'])\n",
        "print(\"If this is all you see, you passed all of our tests!  Nice job!\")"
      ]
    },
    {
      "cell_type": "markdown",
      "metadata": {
        "id": "JOBTttAtaTbU"
      },
      "source": [
        "`4.` Now we are going to improve the consistency of the **user_user_recs** function from above.  \n",
        "\n",
        "* Instead of arbitrarily choosing when we obtain users who are all the same closeness to a given user - choose the users that have the most total article interactions before choosing those with fewer article interactions.\n",
        "\n",
        "\n",
        "* Instead of arbitrarily choosing articles from the user where the number of recommended articles starts below m and ends exceeding m, choose articles with the articles with the most total interactions before choosing those with fewer total interactions. This ranking should be  what would be obtained from the **top_articles** function you wrote earlier."
      ]
    },
    {
      "cell_type": "code",
      "execution_count": 200,
      "metadata": {
        "collapsed": true,
        "id": "8zcyBTYRaTbU"
      },
      "outputs": [],
      "source": [
        "def get_top_sorted_users(user_id, df=df, user_item=user_item):\n",
        "    '''\n",
        "    INPUT:\n",
        "    user_id - (int)\n",
        "    df - (pandas dataframe) df as defined at the top of the notebook \n",
        "    user_item - (pandas dataframe) matrix of users by articles: \n",
        "            1's when a user has interacted with an article, 0 otherwise\n",
        "    \n",
        "            \n",
        "    OUTPUT:\n",
        "    neighbors_df - (pandas dataframe) a dataframe with:\n",
        "                    neighbor_id - is a neighbor user_id\n",
        "                    similarity - measure of the similarity of each user to the provided user_id\n",
        "                    num_interactions - the number of articles viewed by the user - if a u\n",
        "                    \n",
        "    Other Details - sort the neighbors_df by the similarity and then by number of interactions where \n",
        "                    highest of each is higher in the dataframe\n",
        "     \n",
        "    '''\n",
        "    # Calculate the dot product of the given user with all other users\n",
        "    user_similarities = np.dot(user_item, user_item.loc[user_id])\n",
        "    \n",
        "    # Get the number of interactions for each user\n",
        "    user_interactions = user_item.sum(axis=1)\n",
        "    \n",
        "    # Create a DataFrame with neighbor_id, similarity, and num_interactions columns\n",
        "    neighbors_df = pd.DataFrame({\n",
        "        'neighbor_id': user_item.index,\n",
        "        'similarity': user_similarities,\n",
        "        'num_interactions': user_interactions\n",
        "    })\n",
        "    \n",
        "    # Sort the DataFrame by similarity and then by number of interactions\n",
        "    neighbors_df = neighbors_df.sort_values(by=['similarity', 'num_interactions'], ascending=[False, False])\n",
        "    \n",
        "    # Remove the row corresponding to the given user\n",
        "    neighbors_df = neighbors_df[neighbors_df['neighbor_id'] != user_id].reset_index(drop=True)\n",
        "\n",
        "    return neighbors_df\n",
        "\n",
        "\n",
        "def user_user_recs_part2(user_id, m=10):\n",
        "    '''\n",
        "    INPUT:\n",
        "    user_id - (int) a user id\n",
        "    m - (int) the number of recommendations you want for the user\n",
        "    \n",
        "    OUTPUT:\n",
        "    recs - (list) a list of recommendations for the user by article id\n",
        "    rec_names - (list) a list of recommendations for the user by article title\n",
        "    \n",
        "    Description:\n",
        "    Loops through the users based on closeness to the input user_id\n",
        "    For each user - finds articles the user hasn't seen before and provides them as recs\n",
        "    Does this until m recommendations are found\n",
        "    \n",
        "    Notes:\n",
        "    * Choose the users that have the most total article interactions \n",
        "    before choosing those with fewer article interactions.\n",
        "\n",
        "    * Choose articles with the articles with the most total interactions \n",
        "    before choosing those with fewer total interactions. \n",
        "   \n",
        "    '''\n",
        "    # Get the sorted list of similar users based on article interactions\n",
        "    similar_users = get_top_sorted_users(user_id)['neighbor_id'].values\n",
        "    \n",
        "    # Get the articles seen by the given user\n",
        "    given_user_article_ids, given_user_article_names = get_user_articles(user_id)\n",
        "    given_user_articles = set(given_user_article_ids)\n",
        "    \n",
        "    # Create a set to store the recommended article IDs\n",
        "    recommended_article_ids = set()\n",
        "    \n",
        "    # Iterate over the similar users\n",
        "    for similar_user_id in similar_users:\n",
        "        # Get the articles seen by the similar user\n",
        "        similar_user_article_ids, _ = get_user_articles(similar_user_id)\n",
        "        similar_user_articles = set(similar_user_article_ids)\n",
        "        \n",
        "        # Find the articles that the given user hasn't seen before\n",
        "        new_articles = similar_user_articles - given_user_articles\n",
        "        \n",
        "        # Add the new articles to the recommendations set\n",
        "        recommended_article_ids.update(new_articles)\n",
        "        \n",
        "        # Break the loop if the number of recommendations reaches m\n",
        "        if len(recommended_article_ids) >= m:\n",
        "            break\n",
        "    \n",
        "    # Convert the set of recommended article IDs to a list\n",
        "    recs = list(recommended_article_ids)[:m]\n",
        "    \n",
        "    # Get the article names associated with the recommended article IDs\n",
        "    rec_names = get_article_names(recs)\n",
        "    \n",
        "    return recs, rec_names"
      ]
    },
    {
      "cell_type": "code",
      "execution_count": 201,
      "metadata": {
        "collapsed": true,
        "colab": {
          "base_uri": "https://localhost:8080/"
        },
        "id": "JdXwxST_aTbW",
        "outputId": "4985e3cc-7529-44f3-96d6-4354d91c80f6"
      },
      "outputs": [
        {
          "output_type": "stream",
          "name": "stdout",
          "text": [
            "The top 10 recommendations for user 20 are the following article ids:\n",
            "['1422.0', '1172.0', '1186.0', '858.0', '130.0', '607.0', '1164.0', '347.0', '933.0', '1157.0']\n",
            "\n",
            "The top 10 recommendations for user 20 are the following article names:\n",
            "['use r dataframes & ibm watson natural language understanding', 'apache spark lab, part 3: machine learning', 'connect to db2 warehouse on cloud and db2 using scala', 'analyze starcraft ii replays with jupyter notebooks', \"feature importance and why it's important\", 'recommendation system algorithms – stats and bots', 'analyze open data sets with pandas dataframes', 'announcing dsx environments in beta!', 'workflow in r', 'airbnb data for analytics: washington d.c. listings']\n"
          ]
        }
      ],
      "source": [
        "# Quick spot check - don't change this code - just use it to test your functions\n",
        "rec_ids, rec_names = user_user_recs_part2(20, 10)\n",
        "print(\"The top 10 recommendations for user 20 are the following article ids:\")\n",
        "print(rec_ids)\n",
        "print()\n",
        "print(\"The top 10 recommendations for user 20 are the following article names:\")\n",
        "print(rec_names)"
      ]
    },
    {
      "cell_type": "markdown",
      "metadata": {
        "id": "kNiP0G8laTbW"
      },
      "source": [
        "`5.` Use your functions from above to correctly fill in the solutions to the dictionary below.  Then test your dictionary against the solution.  Provide the code you need to answer each following the comments below."
      ]
    },
    {
      "cell_type": "code",
      "execution_count": 205,
      "metadata": {
        "collapsed": true,
        "id": "86oPvrXvaTbW"
      },
      "outputs": [],
      "source": [
        "### Tests with a dictionary of results\n",
        "\n",
        "# Find the user that is most similar to user 1 \n",
        "user1_most_sim = get_top_sorted_users(1).iloc[0]['neighbor_id']\n",
        "\n",
        "# Find the 10th most similar user to user 131\n",
        "user131_10th_sim = get_top_sorted_users(131).iloc[10]['neighbor_id']"
      ]
    },
    {
      "cell_type": "code",
      "execution_count": 206,
      "metadata": {
        "collapsed": true,
        "id": "SE0UQtRuaTbW",
        "outputId": "f5299910-586e-4afd-be4f-afdca9b0c30b",
        "colab": {
          "base_uri": "https://localhost:8080/"
        }
      },
      "outputs": [
        {
          "output_type": "stream",
          "name": "stdout",
          "text": [
            "This all looks good!  Nice job!\n"
          ]
        }
      ],
      "source": [
        "## Dictionary Test Here\n",
        "sol_5_dict = {\n",
        "    'The user that is most similar to user 1.': user1_most_sim, \n",
        "    'The user that is the 10th most similar to user 131': user131_10th_sim,\n",
        "}\n",
        "\n",
        "t.sol_5_test(sol_5_dict)"
      ]
    },
    {
      "cell_type": "markdown",
      "metadata": {
        "id": "W-IWdBBjaTbW"
      },
      "source": [
        "`6.` If we were given a new user, which of the above functions would you be able to use to make recommendations?  Explain.  Can you think of a better way we might make recommendations?  Use the cell below to explain a better method for new users."
      ]
    },
    {
      "cell_type": "markdown",
      "metadata": {
        "id": "JWDiGT4oaTbX"
      },
      "source": [
        "**Provide your response here.**"
      ]
    },
    {
      "cell_type": "markdown",
      "metadata": {
        "id": "ly-2n4xSaTbX"
      },
      "source": [
        "`7.` Using your existing functions, provide the top 10 recommended articles you would provide for the a new user below.  You can test your function against our thoughts to make sure we are all on the same page with how we might make a recommendation."
      ]
    },
    {
      "cell_type": "code",
      "execution_count": 209,
      "metadata": {
        "collapsed": true,
        "id": "1uIkGaVbaTbX"
      },
      "outputs": [],
      "source": [
        "new_user = '0.0'\n",
        "\n",
        "# What would your recommendations be for this new user '0.0'?  As a new user, they have no observed articles.\n",
        "# Provide a list of the top 10 article ids you would give to \n",
        "new_user_recs = get_top_article_ids(10, df=df)"
      ]
    },
    {
      "cell_type": "code",
      "execution_count": 210,
      "metadata": {
        "collapsed": true,
        "id": "2FHtaBKpaTbX",
        "outputId": "e4fff731-8a18-4179-ab6d-3418978a2127",
        "colab": {
          "base_uri": "https://localhost:8080/"
        }
      },
      "outputs": [
        {
          "output_type": "stream",
          "name": "stdout",
          "text": [
            "That's right!  Nice job!\n"
          ]
        }
      ],
      "source": [
        "assert set(new_user_recs) == set(['1314.0','1429.0','1293.0','1427.0','1162.0','1364.0','1304.0','1170.0','1431.0','1330.0']), \"Oops!  It makes sense that in this case we would want to recommend the most popular articles, because we don't know anything about these users.\"\n",
        "\n",
        "print(\"That's right!  Nice job!\")"
      ]
    },
    {
      "cell_type": "markdown",
      "metadata": {
        "id": "CQGw1yEjaTbY"
      },
      "source": [
        "### <a class=\"anchor\" id=\"Content-Recs\">Part IV: Content Based Recommendations (EXTRA - NOT REQUIRED)</a>\n",
        "\n",
        "Another method we might use to make recommendations is to perform a ranking of the highest ranked articles associated with some term.  You might consider content to be the **doc_body**, **doc_description**, or **doc_full_name**.  There isn't one way to create a content based recommendation, especially considering that each of these columns hold content related information.  \n",
        "\n",
        "`1.` Use the function body below to create a content based recommender.  Since there isn't one right answer for this recommendation tactic, no test functions are provided.  Feel free to change the function inputs if you decide you want to try a method that requires more input values.  The input values are currently set with one idea in mind that you may use to make content based recommendations.  One additional idea is that you might want to choose the most popular recommendations that meet your 'content criteria', but again, there is a lot of flexibility in how you might make these recommendations.\n",
        "\n",
        "### This part is NOT REQUIRED to pass this project.  However, you may choose to take this on as an extra way to show off your skills."
      ]
    },
    {
      "cell_type": "code",
      "execution_count": null,
      "metadata": {
        "collapsed": true,
        "id": "9kZkAVkfaTbY"
      },
      "outputs": [],
      "source": [
        "def make_content_recs():\n",
        "    '''\n",
        "    INPUT:\n",
        "    \n",
        "    OUTPUT:\n",
        "    \n",
        "    '''"
      ]
    },
    {
      "cell_type": "markdown",
      "metadata": {
        "id": "FU36So25aTbZ"
      },
      "source": [
        "`2.` Now that you have put together your content-based recommendation system, use the cell below to write a summary explaining how your content based recommender works.  Do you see any possible improvements that could be made to your function?  Is there anything novel about your content based recommender?\n",
        "\n",
        "### This part is NOT REQUIRED to pass this project.  However, you may choose to take this on as an extra way to show off your skills."
      ]
    },
    {
      "cell_type": "markdown",
      "metadata": {
        "id": "zFRahFL4aTbZ"
      },
      "source": [
        "**Write an explanation of your content based recommendation system here.**"
      ]
    },
    {
      "cell_type": "markdown",
      "metadata": {
        "id": "XATRdok3aTba"
      },
      "source": [
        "`3.` Use your content-recommendation system to make recommendations for the below scenarios based on the comments.  Again no tests are provided here, because there isn't one right answer that could be used to find these content based recommendations.\n",
        "\n",
        "### This part is NOT REQUIRED to pass this project.  However, you may choose to take this on as an extra way to show off your skills."
      ]
    },
    {
      "cell_type": "code",
      "execution_count": null,
      "metadata": {
        "collapsed": true,
        "id": "8D_-YWAiaTba"
      },
      "outputs": [],
      "source": [
        "# make recommendations for a brand new user\n",
        "\n",
        "\n",
        "# make a recommendations for a user who only has interacted with article id '1427.0'\n",
        "\n"
      ]
    },
    {
      "cell_type": "markdown",
      "metadata": {
        "id": "hwKUCvr5aTba"
      },
      "source": [
        "### <a class=\"anchor\" id=\"Matrix-Fact\">Part V: Matrix Factorization</a>\n",
        "\n",
        "In this part of the notebook, you will build use matrix factorization to make article recommendations to the users on the IBM Watson Studio platform.\n",
        "\n",
        "`1.` You should have already created a **user_item** matrix above in **question 1** of **Part III** above.  This first question here will just require that you run the cells to get things set up for the rest of **Part V** of the notebook. "
      ]
    },
    {
      "cell_type": "code",
      "execution_count": 211,
      "metadata": {
        "collapsed": true,
        "id": "Jn__qoT6aTba"
      },
      "outputs": [],
      "source": [
        "# Load the matrix here\n",
        "user_item_matrix = pd.read_pickle('user_item_matrix.p')"
      ]
    },
    {
      "cell_type": "code",
      "execution_count": 212,
      "metadata": {
        "collapsed": true,
        "id": "HyvlmZOHaTba",
        "outputId": "f29edad9-4fe8-4a20-9477-4aa5474a0bf2",
        "colab": {
          "base_uri": "https://localhost:8080/",
          "height": 267
        }
      },
      "outputs": [
        {
          "output_type": "execute_result",
          "data": {
            "text/plain": [
              "article_id  0.0  100.0  1000.0  1004.0  1006.0  1008.0  101.0  1014.0  1015.0  \\\n",
              "user_id                                                                         \n",
              "1           0.0    0.0     0.0     0.0     0.0     0.0    0.0     0.0     0.0   \n",
              "2           0.0    0.0     0.0     0.0     0.0     0.0    0.0     0.0     0.0   \n",
              "3           0.0    0.0     0.0     0.0     0.0     0.0    0.0     0.0     0.0   \n",
              "4           0.0    0.0     0.0     0.0     0.0     0.0    0.0     0.0     0.0   \n",
              "5           0.0    0.0     0.0     0.0     0.0     0.0    0.0     0.0     0.0   \n",
              "\n",
              "article_id  1016.0  ...  977.0  98.0  981.0  984.0  985.0  986.0  990.0  \\\n",
              "user_id             ...                                                   \n",
              "1              0.0  ...    0.0   0.0    1.0    0.0    0.0    0.0    0.0   \n",
              "2              0.0  ...    0.0   0.0    0.0    0.0    0.0    0.0    0.0   \n",
              "3              0.0  ...    1.0   0.0    0.0    0.0    0.0    0.0    0.0   \n",
              "4              0.0  ...    0.0   0.0    0.0    0.0    0.0    0.0    0.0   \n",
              "5              0.0  ...    0.0   0.0    0.0    0.0    0.0    0.0    0.0   \n",
              "\n",
              "article_id  993.0  996.0  997.0  \n",
              "user_id                          \n",
              "1             0.0    0.0    0.0  \n",
              "2             0.0    0.0    0.0  \n",
              "3             0.0    0.0    0.0  \n",
              "4             0.0    0.0    0.0  \n",
              "5             0.0    0.0    0.0  \n",
              "\n",
              "[5 rows x 714 columns]"
            ],
            "text/html": [
              "\n",
              "  <div id=\"df-074e4c03-801a-4bb9-923b-afaf53f664ad\">\n",
              "    <div class=\"colab-df-container\">\n",
              "      <div>\n",
              "<style scoped>\n",
              "    .dataframe tbody tr th:only-of-type {\n",
              "        vertical-align: middle;\n",
              "    }\n",
              "\n",
              "    .dataframe tbody tr th {\n",
              "        vertical-align: top;\n",
              "    }\n",
              "\n",
              "    .dataframe thead th {\n",
              "        text-align: right;\n",
              "    }\n",
              "</style>\n",
              "<table border=\"1\" class=\"dataframe\">\n",
              "  <thead>\n",
              "    <tr style=\"text-align: right;\">\n",
              "      <th>article_id</th>\n",
              "      <th>0.0</th>\n",
              "      <th>100.0</th>\n",
              "      <th>1000.0</th>\n",
              "      <th>1004.0</th>\n",
              "      <th>1006.0</th>\n",
              "      <th>1008.0</th>\n",
              "      <th>101.0</th>\n",
              "      <th>1014.0</th>\n",
              "      <th>1015.0</th>\n",
              "      <th>1016.0</th>\n",
              "      <th>...</th>\n",
              "      <th>977.0</th>\n",
              "      <th>98.0</th>\n",
              "      <th>981.0</th>\n",
              "      <th>984.0</th>\n",
              "      <th>985.0</th>\n",
              "      <th>986.0</th>\n",
              "      <th>990.0</th>\n",
              "      <th>993.0</th>\n",
              "      <th>996.0</th>\n",
              "      <th>997.0</th>\n",
              "    </tr>\n",
              "    <tr>\n",
              "      <th>user_id</th>\n",
              "      <th></th>\n",
              "      <th></th>\n",
              "      <th></th>\n",
              "      <th></th>\n",
              "      <th></th>\n",
              "      <th></th>\n",
              "      <th></th>\n",
              "      <th></th>\n",
              "      <th></th>\n",
              "      <th></th>\n",
              "      <th></th>\n",
              "      <th></th>\n",
              "      <th></th>\n",
              "      <th></th>\n",
              "      <th></th>\n",
              "      <th></th>\n",
              "      <th></th>\n",
              "      <th></th>\n",
              "      <th></th>\n",
              "      <th></th>\n",
              "      <th></th>\n",
              "    </tr>\n",
              "  </thead>\n",
              "  <tbody>\n",
              "    <tr>\n",
              "      <th>1</th>\n",
              "      <td>0.0</td>\n",
              "      <td>0.0</td>\n",
              "      <td>0.0</td>\n",
              "      <td>0.0</td>\n",
              "      <td>0.0</td>\n",
              "      <td>0.0</td>\n",
              "      <td>0.0</td>\n",
              "      <td>0.0</td>\n",
              "      <td>0.0</td>\n",
              "      <td>0.0</td>\n",
              "      <td>...</td>\n",
              "      <td>0.0</td>\n",
              "      <td>0.0</td>\n",
              "      <td>1.0</td>\n",
              "      <td>0.0</td>\n",
              "      <td>0.0</td>\n",
              "      <td>0.0</td>\n",
              "      <td>0.0</td>\n",
              "      <td>0.0</td>\n",
              "      <td>0.0</td>\n",
              "      <td>0.0</td>\n",
              "    </tr>\n",
              "    <tr>\n",
              "      <th>2</th>\n",
              "      <td>0.0</td>\n",
              "      <td>0.0</td>\n",
              "      <td>0.0</td>\n",
              "      <td>0.0</td>\n",
              "      <td>0.0</td>\n",
              "      <td>0.0</td>\n",
              "      <td>0.0</td>\n",
              "      <td>0.0</td>\n",
              "      <td>0.0</td>\n",
              "      <td>0.0</td>\n",
              "      <td>...</td>\n",
              "      <td>0.0</td>\n",
              "      <td>0.0</td>\n",
              "      <td>0.0</td>\n",
              "      <td>0.0</td>\n",
              "      <td>0.0</td>\n",
              "      <td>0.0</td>\n",
              "      <td>0.0</td>\n",
              "      <td>0.0</td>\n",
              "      <td>0.0</td>\n",
              "      <td>0.0</td>\n",
              "    </tr>\n",
              "    <tr>\n",
              "      <th>3</th>\n",
              "      <td>0.0</td>\n",
              "      <td>0.0</td>\n",
              "      <td>0.0</td>\n",
              "      <td>0.0</td>\n",
              "      <td>0.0</td>\n",
              "      <td>0.0</td>\n",
              "      <td>0.0</td>\n",
              "      <td>0.0</td>\n",
              "      <td>0.0</td>\n",
              "      <td>0.0</td>\n",
              "      <td>...</td>\n",
              "      <td>1.0</td>\n",
              "      <td>0.0</td>\n",
              "      <td>0.0</td>\n",
              "      <td>0.0</td>\n",
              "      <td>0.0</td>\n",
              "      <td>0.0</td>\n",
              "      <td>0.0</td>\n",
              "      <td>0.0</td>\n",
              "      <td>0.0</td>\n",
              "      <td>0.0</td>\n",
              "    </tr>\n",
              "    <tr>\n",
              "      <th>4</th>\n",
              "      <td>0.0</td>\n",
              "      <td>0.0</td>\n",
              "      <td>0.0</td>\n",
              "      <td>0.0</td>\n",
              "      <td>0.0</td>\n",
              "      <td>0.0</td>\n",
              "      <td>0.0</td>\n",
              "      <td>0.0</td>\n",
              "      <td>0.0</td>\n",
              "      <td>0.0</td>\n",
              "      <td>...</td>\n",
              "      <td>0.0</td>\n",
              "      <td>0.0</td>\n",
              "      <td>0.0</td>\n",
              "      <td>0.0</td>\n",
              "      <td>0.0</td>\n",
              "      <td>0.0</td>\n",
              "      <td>0.0</td>\n",
              "      <td>0.0</td>\n",
              "      <td>0.0</td>\n",
              "      <td>0.0</td>\n",
              "    </tr>\n",
              "    <tr>\n",
              "      <th>5</th>\n",
              "      <td>0.0</td>\n",
              "      <td>0.0</td>\n",
              "      <td>0.0</td>\n",
              "      <td>0.0</td>\n",
              "      <td>0.0</td>\n",
              "      <td>0.0</td>\n",
              "      <td>0.0</td>\n",
              "      <td>0.0</td>\n",
              "      <td>0.0</td>\n",
              "      <td>0.0</td>\n",
              "      <td>...</td>\n",
              "      <td>0.0</td>\n",
              "      <td>0.0</td>\n",
              "      <td>0.0</td>\n",
              "      <td>0.0</td>\n",
              "      <td>0.0</td>\n",
              "      <td>0.0</td>\n",
              "      <td>0.0</td>\n",
              "      <td>0.0</td>\n",
              "      <td>0.0</td>\n",
              "      <td>0.0</td>\n",
              "    </tr>\n",
              "  </tbody>\n",
              "</table>\n",
              "<p>5 rows × 714 columns</p>\n",
              "</div>\n",
              "      <button class=\"colab-df-convert\" onclick=\"convertToInteractive('df-074e4c03-801a-4bb9-923b-afaf53f664ad')\"\n",
              "              title=\"Convert this dataframe to an interactive table.\"\n",
              "              style=\"display:none;\">\n",
              "        \n",
              "  <svg xmlns=\"http://www.w3.org/2000/svg\" height=\"24px\"viewBox=\"0 0 24 24\"\n",
              "       width=\"24px\">\n",
              "    <path d=\"M0 0h24v24H0V0z\" fill=\"none\"/>\n",
              "    <path d=\"M18.56 5.44l.94 2.06.94-2.06 2.06-.94-2.06-.94-.94-2.06-.94 2.06-2.06.94zm-11 1L8.5 8.5l.94-2.06 2.06-.94-2.06-.94L8.5 2.5l-.94 2.06-2.06.94zm10 10l.94 2.06.94-2.06 2.06-.94-2.06-.94-.94-2.06-.94 2.06-2.06.94z\"/><path d=\"M17.41 7.96l-1.37-1.37c-.4-.4-.92-.59-1.43-.59-.52 0-1.04.2-1.43.59L10.3 9.45l-7.72 7.72c-.78.78-.78 2.05 0 2.83L4 21.41c.39.39.9.59 1.41.59.51 0 1.02-.2 1.41-.59l7.78-7.78 2.81-2.81c.8-.78.8-2.07 0-2.86zM5.41 20L4 18.59l7.72-7.72 1.47 1.35L5.41 20z\"/>\n",
              "  </svg>\n",
              "      </button>\n",
              "      \n",
              "  <style>\n",
              "    .colab-df-container {\n",
              "      display:flex;\n",
              "      flex-wrap:wrap;\n",
              "      gap: 12px;\n",
              "    }\n",
              "\n",
              "    .colab-df-convert {\n",
              "      background-color: #E8F0FE;\n",
              "      border: none;\n",
              "      border-radius: 50%;\n",
              "      cursor: pointer;\n",
              "      display: none;\n",
              "      fill: #1967D2;\n",
              "      height: 32px;\n",
              "      padding: 0 0 0 0;\n",
              "      width: 32px;\n",
              "    }\n",
              "\n",
              "    .colab-df-convert:hover {\n",
              "      background-color: #E2EBFA;\n",
              "      box-shadow: 0px 1px 2px rgba(60, 64, 67, 0.3), 0px 1px 3px 1px rgba(60, 64, 67, 0.15);\n",
              "      fill: #174EA6;\n",
              "    }\n",
              "\n",
              "    [theme=dark] .colab-df-convert {\n",
              "      background-color: #3B4455;\n",
              "      fill: #D2E3FC;\n",
              "    }\n",
              "\n",
              "    [theme=dark] .colab-df-convert:hover {\n",
              "      background-color: #434B5C;\n",
              "      box-shadow: 0px 1px 3px 1px rgba(0, 0, 0, 0.15);\n",
              "      filter: drop-shadow(0px 1px 2px rgba(0, 0, 0, 0.3));\n",
              "      fill: #FFFFFF;\n",
              "    }\n",
              "  </style>\n",
              "\n",
              "      <script>\n",
              "        const buttonEl =\n",
              "          document.querySelector('#df-074e4c03-801a-4bb9-923b-afaf53f664ad button.colab-df-convert');\n",
              "        buttonEl.style.display =\n",
              "          google.colab.kernel.accessAllowed ? 'block' : 'none';\n",
              "\n",
              "        async function convertToInteractive(key) {\n",
              "          const element = document.querySelector('#df-074e4c03-801a-4bb9-923b-afaf53f664ad');\n",
              "          const dataTable =\n",
              "            await google.colab.kernel.invokeFunction('convertToInteractive',\n",
              "                                                     [key], {});\n",
              "          if (!dataTable) return;\n",
              "\n",
              "          const docLinkHtml = 'Like what you see? Visit the ' +\n",
              "            '<a target=\"_blank\" href=https://colab.research.google.com/notebooks/data_table.ipynb>data table notebook</a>'\n",
              "            + ' to learn more about interactive tables.';\n",
              "          element.innerHTML = '';\n",
              "          dataTable['output_type'] = 'display_data';\n",
              "          await google.colab.output.renderOutput(dataTable, element);\n",
              "          const docLink = document.createElement('div');\n",
              "          docLink.innerHTML = docLinkHtml;\n",
              "          element.appendChild(docLink);\n",
              "        }\n",
              "      </script>\n",
              "    </div>\n",
              "  </div>\n",
              "  "
            ]
          },
          "metadata": {},
          "execution_count": 212
        }
      ],
      "source": [
        "# quick look at the matrix\n",
        "user_item_matrix.head()"
      ]
    },
    {
      "cell_type": "code",
      "source": [
        "user_item_matrix.shape"
      ],
      "metadata": {
        "id": "8RN61AE-h1B9",
        "outputId": "b0f120e4-ed32-4144-846a-eeea6033a471",
        "colab": {
          "base_uri": "https://localhost:8080/"
        }
      },
      "execution_count": 214,
      "outputs": [
        {
          "output_type": "execute_result",
          "data": {
            "text/plain": [
              "(5149, 714)"
            ]
          },
          "metadata": {},
          "execution_count": 214
        }
      ]
    },
    {
      "cell_type": "markdown",
      "metadata": {
        "id": "vU2ZaWziaTbb"
      },
      "source": [
        "`2.` In this situation, you can use Singular Value Decomposition from [numpy](https://docs.scipy.org/doc/numpy-1.14.0/reference/generated/numpy.linalg.svd.html) on the user-item matrix.  Use the cell to perform SVD, and explain why this is different than in the lesson."
      ]
    },
    {
      "cell_type": "code",
      "execution_count": 213,
      "metadata": {
        "collapsed": true,
        "id": "vkWWKWzcaTbc"
      },
      "outputs": [],
      "source": [
        "# Perform SVD on the User-Item Matrix Here\n",
        "u, s, vt = np.linalg.svd(user_item_matrix, full_matrices=True, compute_uv=True)"
      ]
    },
    {
      "cell_type": "code",
      "source": [
        "u.shape"
      ],
      "metadata": {
        "id": "LbhY7C5Nh5nA",
        "outputId": "01e4a906-2a89-43c8-c5a7-d1b8cfd766ac",
        "colab": {
          "base_uri": "https://localhost:8080/"
        }
      },
      "execution_count": 215,
      "outputs": [
        {
          "output_type": "execute_result",
          "data": {
            "text/plain": [
              "(5149, 5149)"
            ]
          },
          "metadata": {},
          "execution_count": 215
        }
      ]
    },
    {
      "cell_type": "code",
      "source": [
        "s.shape"
      ],
      "metadata": {
        "id": "jktwTvLkh7mI",
        "outputId": "45710bbb-ed43-4247-94a6-bf304f6320f7",
        "colab": {
          "base_uri": "https://localhost:8080/"
        }
      },
      "execution_count": 216,
      "outputs": [
        {
          "output_type": "execute_result",
          "data": {
            "text/plain": [
              "(714,)"
            ]
          },
          "metadata": {},
          "execution_count": 216
        }
      ]
    },
    {
      "cell_type": "code",
      "source": [
        "vt.shape"
      ],
      "metadata": {
        "id": "mz5Dp4Xrh9JF",
        "outputId": "bd8f5c9d-c341-4892-fb01-d8ca7b26011b",
        "colab": {
          "base_uri": "https://localhost:8080/"
        }
      },
      "execution_count": 217,
      "outputs": [
        {
          "output_type": "execute_result",
          "data": {
            "text/plain": [
              "(714, 714)"
            ]
          },
          "metadata": {},
          "execution_count": 217
        }
      ]
    },
    {
      "cell_type": "markdown",
      "metadata": {
        "id": "3RyzFSuAaTbd"
      },
      "source": [
        "**Provide your response here.**"
      ]
    },
    {
      "cell_type": "markdown",
      "metadata": {
        "id": "YELwBQZLaTbe"
      },
      "source": [
        "`3.` Now for the tricky part, how do we choose the number of latent features to use?  Running the below cell, you can see that as the number of latent features increases, we obtain a lower error rate on making predictions for the 1 and 0 values in the user-item matrix.  Run the cell below to get an idea of how the accuracy improves as we increase the number of latent features."
      ]
    },
    {
      "cell_type": "code",
      "execution_count": 218,
      "metadata": {
        "collapsed": true,
        "id": "bMfERVblaTbf",
        "outputId": "006f35fa-eee0-4731-f542-cf528899e70f",
        "colab": {
          "base_uri": "https://localhost:8080/",
          "height": 472
        }
      },
      "outputs": [
        {
          "output_type": "display_data",
          "data": {
            "text/plain": [
              "<Figure size 640x480 with 1 Axes>"
            ],
            "image/png": "[encoded data removed]"
          },
          "metadata": {}
        }
      ],
      "source": [
        "num_latent_feats = np.arange(10,700+10,20)\n",
        "sum_errs = []\n",
        "\n",
        "for k in num_latent_feats:\n",
        "    # restructure with k latent features\n",
        "    s_new, u_new, vt_new = np.diag(s[:k]), u[:, :k], vt[:k, :]\n",
        "    \n",
        "    # take dot product\n",
        "    user_item_est = np.around(np.dot(np.dot(u_new, s_new), vt_new))\n",
        "    \n",
        "    # compute error for each prediction to actual value\n",
        "    diffs = np.subtract(user_item_matrix, user_item_est)\n",
        "    \n",
        "    # total errors and keep track of them\n",
        "    err = np.sum(np.sum(np.abs(diffs)))\n",
        "    sum_errs.append(err)\n",
        "    \n",
        "    \n",
        "plt.plot(num_latent_feats, 1 - np.array(sum_errs)/df.shape[0]);\n",
        "plt.xlabel('Number of Latent Features');\n",
        "plt.ylabel('Accuracy');\n",
        "plt.title('Accuracy vs. Number of Latent Features');"
      ]
    },
    {
      "cell_type": "markdown",
      "metadata": {
        "id": "jR3eBKTdaTbf"
      },
      "source": [
        "`4.` From the above, we can't really be sure how many features to use, because simply having a better way to predict the 1's and 0's of the matrix doesn't exactly give us an indication of if we are able to make good recommendations.  Instead, we might split our dataset into a training and test set of data, as shown in the cell below.  \n",
        "\n",
        "Use the code from question 3 to understand the impact on accuracy of the training and test sets of data with different numbers of latent features. Using the split below: \n",
        "\n",
        "* How many users can we make predictions for in the test set?  \n",
        "* How many users are we not able to make predictions for because of the cold start problem?\n",
        "* How many articles can we make predictions for in the test set?  \n",
        "* How many articles are we not able to make predictions for because of the cold start problem?"
      ]
    },
    {
      "cell_type": "code",
      "execution_count": 252,
      "metadata": {
        "collapsed": true,
        "id": "Mm9O7wE1aTbg"
      },
      "outputs": [],
      "source": [
        "def create_test_and_train_user_item(df_train, df_test):\n",
        "    '''\n",
        "    INPUT:\n",
        "    df_train - training dataframe\n",
        "    df_test - test dataframe\n",
        "    \n",
        "    OUTPUT:\n",
        "    user_item_train - a user-item matrix of the training dataframe \n",
        "                      (unique users for each row and unique articles for each column)\n",
        "    user_item_test - a user-item matrix of the testing dataframe \n",
        "                    (unique users for each row and unique articles for each column)\n",
        "    test_idx - all of the test user ids\n",
        "    test_arts - all of the test article ids\n",
        "    \n",
        "    '''\n",
        "    user_item_train = create_user_item_matrix(df_train)\n",
        "    user_item_test = create_user_item_matrix(df_test)\n",
        "    \n",
        "    test_idx = user_item_test.index.values\n",
        "    test_arts = user_item_test.columns.values\n",
        "    \n",
        "    return user_item_train, user_item_test, test_idx, test_arts"
      ]
    },
    {
      "cell_type": "code",
      "source": [
        "df_train = df.head(40000)\n",
        "df_test = df.tail(5993)\n",
        "\n",
        "user_item_train, user_item_test, test_idx, test_arts = create_test_and_train_user_item(df_train, df_test)"
      ],
      "metadata": {
        "id": "lUe-IXuppDw2"
      },
      "execution_count": null,
      "outputs": []
    },
    {
      "cell_type": "code",
      "source": [
        "len(np.intersect1d(df_train.user_id.unique(),df_test.user_id.unique()))"
      ],
      "metadata": {
        "id": "4D-oDF7-j3V-",
        "outputId": "5bc49906-fcf4-4f68-c359-1198f7cfd5e5",
        "colab": {
          "base_uri": "https://localhost:8080/"
        }
      },
      "execution_count": 225,
      "outputs": [
        {
          "output_type": "execute_result",
          "data": {
            "text/plain": [
              "20"
            ]
          },
          "metadata": {},
          "execution_count": 225
        }
      ]
    },
    {
      "cell_type": "code",
      "source": [
        "len(np.setdiff1d(user_item_test.index, user_item_train.index))"
      ],
      "metadata": {
        "id": "Tq-yEmlajtee",
        "outputId": "4b0e0f4f-6220-4acf-be09-294f4cef2339",
        "colab": {
          "base_uri": "https://localhost:8080/"
        }
      },
      "execution_count": 224,
      "outputs": [
        {
          "output_type": "execute_result",
          "data": {
            "text/plain": [
              "662"
            ]
          },
          "metadata": {},
          "execution_count": 224
        }
      ]
    },
    {
      "cell_type": "code",
      "source": [
        "len(np.intersect1d(df_train.article_id.unique(),df_test.article_id.unique()))"
      ],
      "metadata": {
        "id": "ecY0oDNFkI5j",
        "outputId": "25be20fd-cbac-4e18-b837-2f71bbbe6de6",
        "colab": {
          "base_uri": "https://localhost:8080/"
        }
      },
      "execution_count": 226,
      "outputs": [
        {
          "output_type": "execute_result",
          "data": {
            "text/plain": [
              "574"
            ]
          },
          "metadata": {},
          "execution_count": 226
        }
      ]
    },
    {
      "cell_type": "code",
      "source": [
        "len(np.setdiff1d(user_item_test.columns, user_item_train.columns))"
      ],
      "metadata": {
        "id": "nCIcgCSqkPUj",
        "outputId": "6b8ab08f-d5f5-4bb1-9f0b-827ce06ae3f4",
        "colab": {
          "base_uri": "https://localhost:8080/"
        }
      },
      "execution_count": 227,
      "outputs": [
        {
          "output_type": "execute_result",
          "data": {
            "text/plain": [
              "0"
            ]
          },
          "metadata": {},
          "execution_count": 227
        }
      ]
    },
    {
      "cell_type": "code",
      "execution_count": 223,
      "metadata": {
        "collapsed": true,
        "id": "6DAxHpdMaTbh",
        "outputId": "34214e30-8d63-45ad-bb42-38d4e5d23576",
        "colab": {
          "base_uri": "https://localhost:8080/"
        }
      },
      "outputs": [
        {
          "output_type": "stream",
          "name": "stdout",
          "text": [
            "Awesome job!  That's right!  All of the test articles are in the training data, but there are only 20 test users that were also in the training set.  All of the other users that are in the test set we have no data on.  Therefore, we cannot make predictions for these users using SVD.\n"
          ]
        }
      ],
      "source": [
        "# Replace the values in the dictionary below\n",
        "a = 662 \n",
        "b = 574 \n",
        "c = 20 \n",
        "d = 0 \n",
        "\n",
        "sol_4_dict = {\n",
        "    'How many users can we make predictions for in the test set?': c, \n",
        "    'How many users in the test set are we not able to make predictions for because of the cold start problem?': a, \n",
        "    'How many articles can we make predictions for in the test set?': b,\n",
        "    'How many articles in the test set are we not able to make predictions for because of the cold start problem?': d\n",
        "}\n",
        "\n",
        "t.sol_4_test(sol_4_dict)"
      ]
    },
    {
      "cell_type": "markdown",
      "metadata": {
        "id": "O7j_RofEaTbi"
      },
      "source": [
        "`5.` Now use the **user_item_train** dataset from above to find U, S, and V transpose using SVD. Then find the subset of rows in the **user_item_test** dataset that you can predict using this matrix decomposition with different numbers of latent features to see how many features makes sense to keep based on the accuracy on the test data. This will require combining what was done in questions `2` - `4`.\n",
        "\n",
        "Use the cells below to explore how well SVD works towards making predictions for recommendations on the test data.  "
      ]
    },
    {
      "cell_type": "code",
      "execution_count": 228,
      "metadata": {
        "collapsed": true,
        "id": "fwo5M41VaTbi"
      },
      "outputs": [],
      "source": [
        "# fit SVD on the user_item_train matrix\n",
        "u_train, s_train, vt_train = np.linalg.svd(user_item_train, full_matrices=True, compute_uv=True)"
      ]
    },
    {
      "cell_type": "code",
      "execution_count": 230,
      "metadata": {
        "collapsed": true,
        "id": "UXcrWzLhaTbi",
        "outputId": "76cce80e-1375-454c-a313-6ac515586386",
        "colab": {
          "base_uri": "https://localhost:8080/"
        }
      },
      "outputs": [
        {
          "output_type": "execute_result",
          "data": {
            "text/plain": [
              "((4487, 4487), (714,), (714, 714))"
            ]
          },
          "metadata": {},
          "execution_count": 230
        }
      ],
      "source": [
        "u_train.shape, s_train.shape, vt_train.shape"
      ]
    },
    {
      "cell_type": "code",
      "execution_count": 261,
      "metadata": {
        "collapsed": true,
        "id": "lWtv_BAeaTbj"
      },
      "outputs": [],
      "source": [
        "#  Rows that match \n",
        "test_idx = user_item_test.index\n",
        "train_idx = user_item_train.index\n",
        "comm_idxs = list(set(train_idx)&set(test_idx))\n",
        "\n",
        "# Cols that match\n",
        "test_col = user_item_test.columns\n",
        "train_col = user_item_train.columns\n",
        "comm_cols = list(set(train_col)&set(test_col))\n",
        "\n",
        "# Train data\n",
        "train_row = user_item_train.index.isin(comm_idxs)\n",
        "train_col = user_item_train.columns.isin(comm_cols)\n",
        "\n",
        "# Test data\n",
        "test_row = user_item_test.index.isin(comm_idxs)\n",
        "sub_user_item_test = user_item_test.loc[test_row]\n",
        "\n",
        "u_test = u_train[train_row, :]\n",
        "vt_test = vt_train[:, train_col]"
      ]
    },
    {
      "cell_type": "code",
      "source": [
        "# Define the range of latent features\n",
        "num_latent_feats = np.arange(10, 700+10, 20)\n",
        "\n",
        "# Initialize arrays to store train and test errors\n",
        "train_errs = np.zeros(num_latent_feats.shape)\n",
        "test_errs = np.zeros(num_latent_feats.shape)\n",
        "\n",
        "# Iterate over the range of latent features\n",
        "for i, k in enumerate(num_latent_feats):\n",
        "    # Restructure the SVD matrices with k latent features\n",
        "    s_new, u_new, vt_new = np.diag(s_train[:k]), u_train[:, :k], vt_train[:k, :]\n",
        "    u_test_new, vt_test_new = u_test[:, :k], vt_test[:k, :]\n",
        "\n",
        "    # Calculate the estimated user-item matrices by taking dot product\n",
        "    user_item_train_est = np.around(np.dot(np.dot(u_new, s_new), vt_new))\n",
        "    user_item_test_est = np.around(np.dot(np.dot(u_test_new, s_new), vt_test_new))\n",
        "\n",
        "    # Compute the difference between actual and estimated values\n",
        "    diffs_train = user_item_train - user_item_train_est\n",
        "    diffs_test = user_item_test.loc[comm_idxs] - user_item_test_est\n",
        "\n",
        "    # Calculate the total errors and store them\n",
        "    train_errs[i] = np.sum(np.sum(np.abs(diffs_train)))\n",
        "    test_errs[i] = np.sum(np.sum(np.abs(diffs_test)))\n",
        "\n",
        "# Calculate the accuracy by subtracting errors from the total number of interactions\n",
        "train_accuracy = 1 - train_errs / (user_item_train.shape[0] * user_item_train.shape[1])\n",
        "test_accuracy = 1 - test_errs / (user_item_test.loc[comm_idxs].shape[0] * user_item_test.loc[comm_idxs].shape[1])\n",
        "\n",
        "# Plot the accuracy versus the number of latent features\n",
        "plt.plot(num_latent_feats, train_accuracy, label='Train')\n",
        "plt.plot(num_latent_feats, test_accuracy, label='Test')\n",
        "plt.xlabel('Number of Latent Features')\n",
        "plt.ylabel('Accuracy')\n",
        "plt.title('Accuracy vs. Number of Latent Features')\n",
        "plt.legend()\n",
        "plt.show()"
      ],
      "metadata": {
        "id": "RdvVuaI-t5ZU",
        "outputId": "e2a62167-9371-4260-f5f6-7e4789848a75",
        "colab": {
          "base_uri": "https://localhost:8080/",
          "height": 472
        }
      },
      "execution_count": 276,
      "outputs": [
        {
          "output_type": "display_data",
          "data": {
            "text/plain": [
              "<Figure size 640x480 with 1 Axes>"
            ],
            "image/png": "[encoded data removed]"
          },
          "metadata": {}
        }
      ]
    },
    {
      "cell_type": "markdown",
      "metadata": {
        "collapsed": true,
        "id": "O0pJURXtaTbj"
      },
      "source": [
        "`6.` Use the cell below to comment on the results you found in the previous question. Given the circumstances of your results, discuss what you might do to determine if the recommendations you make with any of the above recommendation systems are an improvement to how users currently find articles? "
      ]
    },
    {
      "cell_type": "markdown",
      "metadata": {
        "id": "v91TfY1HaTbj"
      },
      "source": [
        "**Your response here.**"
      ]
    },
    {
      "cell_type": "markdown",
      "metadata": {
        "collapsed": true,
        "id": "VAYgfq46aTbj"
      },
      "source": [
        "<a id='conclusions'></a>\n",
        "### Extras\n",
        "Using your workbook, you could now save your recommendations for each user, develop a class to make new predictions and update your results, and make a flask app to deploy your results.  These tasks are beyond what is required for this project.  However, from what you learned in the lessons, you certainly capable of taking these tasks on to improve upon your work here!\n",
        "\n",
        "\n",
        "## Conclusion\n",
        "\n",
        "> Congratulations!  You have reached the end of the Recommendations with IBM project! \n",
        "\n",
        "> **Tip**: Once you are satisfied with your work here, check over your report to make sure that it is satisfies all the areas of the [rubric](https://review.udacity.com/#!/rubrics/2322/view). You should also probably remove all of the \"Tips\" like this one so that the presentation is as polished as possible.\n",
        "\n",
        "\n",
        "## Directions to Submit\n",
        "\n",
        "> Before you submit your project, you need to create a .html or .pdf version of this notebook in the workspace here. To do that, run the code cell below. If it worked correctly, you should get a return code of 0, and you should see the generated .html file in the workspace directory (click on the orange Jupyter icon in the upper left).\n",
        "\n",
        "> Alternatively, you can download this report as .html via the **File** > **Download as** submenu, and then manually upload it into the workspace directory by clicking on the orange Jupyter icon in the upper left, then using the Upload button.\n",
        "\n",
        "> Once you've done this, you can submit your project by clicking on the \"Submit Project\" button in the lower right here. This will create and submit a zip file with this .ipynb doc and the .html or .pdf version you created. Congratulations! "
      ]
    },
    {
      "cell_type": "code",
      "execution_count": 277,
      "metadata": {
        "collapsed": true,
        "id": "BfjoV1CraTbj",
        "outputId": "bbc085db-64af-4f3d-c7c7-c62eb15b7fe8",
        "colab": {
          "base_uri": "https://localhost:8080/"
        }
      },
      "outputs": [
        {
          "output_type": "execute_result",
          "data": {
            "text/plain": [
              "255"
            ]
          },
          "metadata": {},
          "execution_count": 277
        }
      ],
      "source": [
        "from subprocess import call\n",
        "call(['python', '-m', 'nbconvert', 'Recommendations_with_IBM.ipynb'])"
      ]
    }
  ],
  "metadata": {
    "kernelspec": {
      "display_name": "Python 3",
      "language": "python",
      "name": "python3"
    },
    "language_info": {
      "codemirror_mode": {
        "name": "ipython",
        "version": 3
      },
      "file_extension": ".py",
      "mimetype": "text/x-python",
      "name": "python",
      "nbconvert_exporter": "python",
      "pygments_lexer": "ipython3",
      "version": "3.6.3"
    },
    "colab": {
      "provenance": [],
      "toc_visible": true
    }
  },
  "nbformat": 4,
  "nbformat_minor": 0
}